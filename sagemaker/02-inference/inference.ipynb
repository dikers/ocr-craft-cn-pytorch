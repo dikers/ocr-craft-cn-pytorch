{
 "cells": [
  {
   "cell_type": "code",
   "execution_count": 1,
   "metadata": {},
   "outputs": [
    {
     "name": "stdout",
     "output_type": "stream",
     "text": [
      "cn-northwest-1 arn:aws-cn:iam::690704700794:role/service-role/AmazonSageMaker-ExecutionRole-20200430T123312\n"
     ]
    }
   ],
   "source": [
    "import boto3\n",
    "import sagemaker\n",
    "import os\n",
    "from sagemaker import get_execution_role\n",
    "\n",
    "region = boto3.session.Session().region_name\n",
    "\n",
    "role = get_execution_role()\n",
    "print(region, role)"
   ]
  },
  {
   "cell_type": "markdown",
   "metadata": {},
   "source": [
    "We will demo using Sagemaker inference in BYOC mode, so first we need package our container."
   ]
  },
  {
   "cell_type": "markdown",
   "metadata": {},
   "source": [
    "We are using AWS Deep Learning Container as our base container, you can check the available list in https://aws.amazon.com/cn/releasenotes/available-deep-learning-containers-images/\n",
    "\n",
    "Remember change the base container by the region you are using."
   ]
  },
  {
   "cell_type": "markdown",
   "metadata": {},
   "source": [
    "# Container build有两种方式（二选一）\n",
    "\n",
    "*  自己构建（在中国区会较慢）\n",
    "\n",
    "*   使用现有的(推荐)\n",
    "\n",
    "### 本次任务可以使用已经封装的docker image"
   ]
  },
  {
   "cell_type": "markdown",
   "metadata": {},
   "source": [
    "## 创建ECR "
   ]
  },
  {
   "cell_type": "code",
   "execution_count": 2,
   "metadata": {},
   "outputs": [
    {
     "name": "stdout",
     "output_type": "stream",
     "text": [
      "690704700794.dkr.ecr.cn-northwest-1.amazonaws.com.cn/ocr-inference-container:latest\n"
     ]
    }
   ],
   "source": [
    "# Run this cell only onece to create the repository in ECR\n",
    "import boto3\n",
    "\n",
    "account_id = boto3.client('sts').get_caller_identity().get('Account')\n",
    "ecr_repository = 'ocr-inference-container'\n",
    "tag = ':latest'\n",
    "uri_suffix = 'amazonaws.com'\n",
    "if region in ['cn-north-1', 'cn-northwest-1']:\n",
    "    uri_suffix = 'amazonaws.com.cn'\n",
    "inference_repository_uri = '{}.dkr.ecr.{}.{}/{}'.format(account_id, region, uri_suffix, ecr_repository + tag)\n",
    "print(inference_repository_uri)\n",
    "ecr = '{}.dkr.ecr.{}.{}'.format(account_id, region, uri_suffix)\n",
    "\n"
   ]
  },
  {
   "cell_type": "code",
   "execution_count": null,
   "metadata": {},
   "outputs": [],
   "source": [
    "!aws ecr create-repository --repository-name $ecr_repository"
   ]
  },
  {
   "cell_type": "markdown",
   "metadata": {},
   "source": [
    "## 构建镜像"
   ]
  },
  {
   "cell_type": "code",
   "execution_count": 4,
   "metadata": {},
   "outputs": [
    {
     "data": {
      "text/plain": [
       "'690704700794.dkr.ecr.cn-northwest-1.amazonaws.com.cn/ocr-inference-container:latest'"
      ]
     },
     "execution_count": 4,
     "metadata": {},
     "output_type": "execute_result"
    }
   ],
   "source": [
    "inference_repository_uri"
   ]
  },
  {
   "cell_type": "markdown",
   "metadata": {},
   "source": [
    "### Build and push"
   ]
  },
  {
   "cell_type": "code",
   "execution_count": 3,
   "metadata": {},
   "outputs": [
    {
     "name": "stdout",
     "output_type": "stream",
     "text": [
      "WARNING! Your password will be stored unencrypted in /home/ec2-user/.docker/config.json.\n",
      "Configure a credential helper to remove this warning. See\n",
      "https://docs.docker.com/engine/reference/commandline/login/#credentials-store\n",
      "\n",
      "Login Succeeded\n"
     ]
    }
   ],
   "source": [
    "!aws ecr get-login-password --region cn-northwest-1 | docker login --username AWS --password-stdin 727897471807.dkr.ecr.cn-northwest-1.amazonaws.com.cn"
   ]
  },
  {
   "cell_type": "code",
   "execution_count": 6,
   "metadata": {
    "scrolled": true
   },
   "outputs": [
    {
     "name": "stdout",
     "output_type": "stream",
     "text": [
      "WARNING! Your password will be stored unencrypted in /home/ec2-user/.docker/config.json.\n",
      "Configure a credential helper to remove this warning. See\n",
      "https://docs.docker.com/engine/reference/commandline/login/#credentials-store\n",
      "\n",
      "Login Succeeded\n",
      "Sending build context to Docker daemon  126.5kB\n",
      "Step 1/12 : FROM 727897471807.dkr.ecr.cn-northwest-1.amazonaws.com.cn/pytorch-inference:1.5.0-gpu-py36-cu101-ubuntu16.04\n",
      " ---> fc4de87c9036\n",
      "Step 2/12 : RUN apt-get -y update && apt-get install -y --no-install-recommends          wget          nginx     && rm -rf /var/lib/apt/lists/*\n",
      " ---> Using cache\n",
      " ---> a75fa09342f2\n",
      "Step 3/12 : WORKDIR /opt/ml/code\n",
      " ---> Using cache\n",
      " ---> d83a56c0b7c3\n",
      "Step 4/12 : COPY source ./\n",
      " ---> b6be52ebee86\n",
      "Step 5/12 : RUN pip install --upgrade pip  -i https://mirrors.163.com/pypi/simple/\n",
      " ---> Running in f0e3124bcc22\n",
      "Looking in indexes: https://mirrors.163.com/pypi/simple/\n",
      "Requirement already up-to-date: pip in /opt/conda/lib/python3.6/site-packages (20.1)\n",
      "Removing intermediate container f0e3124bcc22\n",
      " ---> 2b16c13201c4\n",
      "Step 6/12 : RUN pip install -r requirements.txt  -i https://mirrors.163.com/pypi/simple/\n",
      " ---> Running in 99d25ea8f6d2\n",
      "Looking in indexes: https://mirrors.163.com/pypi/simple/\n",
      "Collecting lmdb==0.98\n",
      "  Downloading https://mirrors.163.com/pypi/packages/c0/5c/d56dbc2532ecf14fa004c543927500c0f645eaca8bd7ec39420c7546396a/lmdb-0.98.tar.gz (869 kB)\n",
      "Collecting natsort==7.0.1\n",
      "  Downloading https://mirrors.163.com/pypi/packages/0f/65/81883897f4aaa1e53deaa65137318cfe80b36ce013c2e86f8fd0843cfa02/natsort-7.0.1-py3-none-any.whl (33 kB)\n",
      "Collecting opencv-python==4.2.0.34\n",
      "  Downloading https://mirrors.163.com/pypi/packages/72/c2/e9cf54ae5b1102020ef895866a67cb2e1aef72f16dd1fde5b5fb1495ad9c/opencv_python-4.2.0.34-cp36-cp36m-manylinux1_x86_64.whl (28.2 MB)\n",
      "Collecting scikit-image==0.17.2\n",
      "  Downloading https://mirrors.163.com/pypi/packages/0e/ba/53e1bfbdfd0f94514d71502e3acea494a8b4b57c457adbc333ef386485da/scikit_image-0.17.2-cp36-cp36m-manylinux1_x86_64.whl (12.4 MB)\n",
      "Collecting nltk==3.5\n",
      "  Downloading https://mirrors.163.com/pypi/packages/92/75/ce35194d8e3022203cca0d2f896dbb88689f9b3fce8e9f9cff942913519d/nltk-3.5.zip (1.4 MB)\n",
      "Requirement already satisfied: Flask in /opt/conda/lib/python3.6/site-packages (from -r requirements.txt (line 6)) (1.1.1)\n",
      "Requirement already satisfied: numpy>=1.11.3 in /opt/conda/lib/python3.6/site-packages (from opencv-python==4.2.0.34->-r requirements.txt (line 3)) (1.16.4)\n",
      "Collecting imageio>=2.3.0\n",
      "  Downloading https://mirrors.163.com/pypi/packages/4c/2b/9dd19644f871b10f7e32eb2dbd6b45149c350b4d5f2893e091b882e03ab7/imageio-2.8.0-py3-none-any.whl (3.3 MB)\n",
      "Collecting matplotlib!=3.0.0,>=2.0.0\n",
      "  Downloading https://mirrors.163.com/pypi/packages/93/4b/52da6b1523d5139d04e02d9e26ceda6146b48f2a4e5d2abfdf1c7bac8c40/matplotlib-3.2.1-cp36-cp36m-manylinux1_x86_64.whl (12.4 MB)\n",
      "Collecting tifffile>=2019.7.26\n",
      "  Downloading https://mirrors.163.com/pypi/packages/2b/6c/32815fe6c0953e231cf9c2769f8ac135ac8400b851f8a14d310852de4102/tifffile-2020.5.11-py3-none-any.whl (132 kB)\n",
      "Requirement already satisfied: scipy>=1.0.1 in /opt/conda/lib/python3.6/site-packages (from scikit-image==0.17.2->-r requirements.txt (line 4)) (1.3.0)\n",
      "Collecting pillow!=7.1.0,!=7.1.1,>=4.3.0\n",
      "  Downloading https://mirrors.163.com/pypi/packages/e0/50/8e78e6f62ffa50d6ca95c281d5a2819bef66d023ac1b723e253de5bda9c5/Pillow-7.1.2-cp36-cp36m-manylinux1_x86_64.whl (2.1 MB)\n",
      "Collecting PyWavelets>=1.1.1\n",
      "  Downloading https://mirrors.163.com/pypi/packages/59/bb/d2b85265ec9fa3c1922210c9393d4cdf7075cc87cce6fe671d7455f80fbc/PyWavelets-1.1.1-cp36-cp36m-manylinux1_x86_64.whl (4.4 MB)\n",
      "Collecting networkx>=2.0\n",
      "  Downloading https://mirrors.163.com/pypi/packages/41/8f/dd6a8e85946def36e4f2c69c84219af0fa5e832b018c970e92f2ad337e45/networkx-2.4-py3-none-any.whl (1.6 MB)\n",
      "Requirement already satisfied: click in /opt/conda/lib/python3.6/site-packages (from nltk==3.5->-r requirements.txt (line 5)) (7.1.2)\n",
      "Requirement already satisfied: joblib in /opt/conda/lib/python3.6/site-packages (from nltk==3.5->-r requirements.txt (line 5)) (0.14.1)\n",
      "Collecting regex\n",
      "  Downloading https://mirrors.163.com/pypi/packages/60/7c/0d46b10a87b3087e8e303fac923beb19ec839d7c5ea34971a12fafb22b52/regex-2020.5.14-cp36-cp36m-manylinux2010_x86_64.whl (675 kB)\n",
      "Requirement already satisfied: tqdm in /opt/conda/lib/python3.6/site-packages (from nltk==3.5->-r requirements.txt (line 5)) (4.45.0)\n",
      "Requirement already satisfied: Werkzeug>=0.15 in /opt/conda/lib/python3.6/site-packages (from Flask->-r requirements.txt (line 6)) (1.0.1)\n",
      "Requirement already satisfied: itsdangerous>=0.24 in /opt/conda/lib/python3.6/site-packages (from Flask->-r requirements.txt (line 6)) (1.1.0)\n",
      "Requirement already satisfied: Jinja2>=2.10.1 in /opt/conda/lib/python3.6/site-packages (from Flask->-r requirements.txt (line 6)) (2.11.2)\n",
      "Collecting pyparsing!=2.0.4,!=2.1.2,!=2.1.6,>=2.0.1\n",
      "  Downloading https://mirrors.163.com/pypi/packages/8a/bb/488841f56197b13700afd5658fc279a2025a39e22449b7cf29864669b15d/pyparsing-2.4.7-py2.py3-none-any.whl (67 kB)\n",
      "Collecting cycler>=0.10\n",
      "  Downloading https://mirrors.163.com/pypi/packages/f7/d2/e07d3ebb2bd7af696440ce7e754c59dd546ffe1bbe732c8ab68b9c834e61/cycler-0.10.0-py2.py3-none-any.whl (6.5 kB)\n",
      "Collecting kiwisolver>=1.0.1\n",
      "  Downloading https://mirrors.163.com/pypi/packages/ae/23/147de658aabbf968324551ea22c0c13a00284c4ef49a77002e91f79657b7/kiwisolver-1.2.0-cp36-cp36m-manylinux1_x86_64.whl (88 kB)\n",
      "Requirement already satisfied: python-dateutil>=2.1 in /opt/conda/lib/python3.6/site-packages (from matplotlib!=3.0.0,>=2.0.0->scikit-image==0.17.2->-r requirements.txt (line 4)) (2.8.1)\n",
      "Collecting imagecodecs>=2020.2.18\n",
      "  Downloading https://mirrors.163.com/pypi/packages/e5/c0/a2001ce40ddf86f5944a111d61a8bb2799d10e169ba47979bc6c821cf8be/imagecodecs-2020.2.18-cp36-cp36m-manylinux2014_x86_64.whl (18.1 MB)\n",
      "Requirement already satisfied: decorator>=4.3.0 in /opt/conda/lib/python3.6/site-packages (from networkx>=2.0->scikit-image==0.17.2->-r requirements.txt (line 4)) (4.4.2)\n",
      "Requirement already satisfied: MarkupSafe>=0.23 in /opt/conda/lib/python3.6/site-packages (from Jinja2>=2.10.1->Flask->-r requirements.txt (line 6)) (1.1.1)\n",
      "Requirement already satisfied: six in /opt/conda/lib/python3.6/site-packages (from cycler>=0.10->matplotlib!=3.0.0,>=2.0.0->scikit-image==0.17.2->-r requirements.txt (line 4)) (1.14.0)\n",
      "Building wheels for collected packages: lmdb, nltk\n",
      "  Building wheel for lmdb (setup.py): started\n",
      "  Building wheel for lmdb (setup.py): finished with status 'done'\n",
      "  Created wheel for lmdb: filename=lmdb-0.98-cp36-cp36m-linux_x86_64.whl size=262446 sha256=62b6abecd38d982f40562473b698472095b7ffd9e923d5ecff4fc45719639976\n",
      "  Stored in directory: /root/.cache/pip/wheels/4c/26/4e/d76e21dad22283dc8c69f9afb9084d3a7809059d6c8cf3658a\n",
      "  Building wheel for nltk (setup.py): started\n",
      "  Building wheel for nltk (setup.py): finished with status 'done'\n",
      "  Created wheel for nltk: filename=nltk-3.5-py3-none-any.whl size=1434674 sha256=2499b19d5ccdf056ba6c89033d6e21f0821feaa73c2e87c4b3d85e207dbb2230\n",
      "  Stored in directory: /root/.cache/pip/wheels/2d/a7/3e/7264039d464130cbe62a2b6724c37eee96f75050fb443ba89d\n",
      "Successfully built lmdb nltk\n",
      "Installing collected packages: lmdb, natsort, opencv-python, pillow, imageio, pyparsing, cycler, kiwisolver, matplotlib, imagecodecs, tifffile, PyWavelets, networkx, scikit-image, regex, nltk\n",
      "  Attempting uninstall: pillow\n",
      "    Found existing installation: Pillow 7.1.0\n",
      "    Uninstalling Pillow-7.1.0:\n",
      "      Successfully uninstalled Pillow-7.1.0\n",
      "Successfully installed PyWavelets-1.1.1 cycler-0.10.0 imagecodecs-2020.2.18 imageio-2.8.0 kiwisolver-1.2.0 lmdb-0.98 matplotlib-3.2.1 natsort-7.0.1 networkx-2.4 nltk-3.5 opencv-python-4.2.0.34 pillow-7.1.2 pyparsing-2.4.7 regex-2020.5.14 scikit-image-0.17.2 tifffile-2020.5.11\n",
      "Removing intermediate container 99d25ea8f6d2\n",
      " ---> 877d57714a48\n",
      "Step 7/12 : RUN pip install flask gevent gunicorn boto3 &&         rm -rf /root/.cache\n",
      " ---> Running in 120f6b6422ec\n",
      "Requirement already satisfied: flask in /opt/conda/lib/python3.6/site-packages (1.1.1)\n",
      "Requirement already satisfied: gevent in /opt/conda/lib/python3.6/site-packages (20.5.0)\n",
      "Requirement already satisfied: gunicorn in /opt/conda/lib/python3.6/site-packages (20.0.4)\n",
      "Requirement already satisfied: boto3 in /opt/conda/lib/python3.6/site-packages (1.13.1)\n",
      "Requirement already satisfied: Jinja2>=2.10.1 in /opt/conda/lib/python3.6/site-packages (from flask) (2.11.2)\n",
      "Requirement already satisfied: click>=5.1 in /opt/conda/lib/python3.6/site-packages (from flask) (7.1.2)\n",
      "Requirement already satisfied: Werkzeug>=0.15 in /opt/conda/lib/python3.6/site-packages (from flask) (1.0.1)\n",
      "Requirement already satisfied: itsdangerous>=0.24 in /opt/conda/lib/python3.6/site-packages (from flask) (1.1.0)\n",
      "Requirement already satisfied: greenlet>=0.4.14; platform_python_implementation == \"CPython\" in /opt/conda/lib/python3.6/site-packages (from gevent) (0.4.15)\n",
      "Requirement already satisfied: setuptools>=3.0 in /opt/conda/lib/python3.6/site-packages (from gunicorn) (46.1.3.post20200330)\n",
      "Requirement already satisfied: s3transfer<0.4.0,>=0.3.0 in /opt/conda/lib/python3.6/site-packages (from boto3) (0.3.3)\n",
      "Requirement already satisfied: jmespath<1.0.0,>=0.7.1 in /opt/conda/lib/python3.6/site-packages (from boto3) (0.9.5)\n",
      "Requirement already satisfied: botocore<1.17.0,>=1.16.1 in /opt/conda/lib/python3.6/site-packages (from boto3) (1.16.1)\n",
      "Requirement already satisfied: MarkupSafe>=0.23 in /opt/conda/lib/python3.6/site-packages (from Jinja2>=2.10.1->flask) (1.1.1)\n",
      "Requirement already satisfied: urllib3<1.26,>=1.20; python_version != \"3.4\" in /opt/conda/lib/python3.6/site-packages (from botocore<1.17.0,>=1.16.1->boto3) (1.25.8)\n",
      "Requirement already satisfied: docutils<0.16,>=0.10 in /opt/conda/lib/python3.6/site-packages (from botocore<1.17.0,>=1.16.1->boto3) (0.15.2)\n",
      "Requirement already satisfied: python-dateutil<3.0.0,>=2.1 in /opt/conda/lib/python3.6/site-packages (from botocore<1.17.0,>=1.16.1->boto3) (2.8.1)\n",
      "Requirement already satisfied: six>=1.5 in /opt/conda/lib/python3.6/site-packages (from python-dateutil<3.0.0,>=2.1->botocore<1.17.0,>=1.16.1->boto3) (1.14.0)\n",
      "Removing intermediate container 120f6b6422ec\n",
      " ---> 0ef54bdf597d\n",
      "Step 8/12 : WORKDIR /opt/ml/code\n",
      " ---> Running in f99fd25313f0\n",
      "Removing intermediate container f99fd25313f0\n",
      " ---> cb465c129670\n",
      "Step 9/12 : ENV PYTHONUNBUFFERED=TRUE\n",
      " ---> Running in c59f4498a14b\n",
      "Removing intermediate container c59f4498a14b\n",
      " ---> 79d3ad21e888\n",
      "Step 10/12 : ENV PYTHONDONTWRITEBYTECODE=TRUE\n",
      " ---> Running in c4dc55d4a3cf\n",
      "Removing intermediate container c4dc55d4a3cf\n",
      " ---> bbf47ecb1ba2\n",
      "Step 11/12 : ENV PATH=\"/opt/ml/code/:${PATH}\"\n",
      " ---> Running in 8364768eedb0\n",
      "Removing intermediate container 8364768eedb0\n",
      " ---> 4e48c5b39c8e\n",
      "Step 12/12 : ENTRYPOINT [\"python3\"]\n",
      " ---> Running in 6c733193ccac\n",
      "Removing intermediate container 6c733193ccac\n",
      " ---> 84373696adc8\n",
      "Successfully built 84373696adc8\n",
      "Successfully tagged ocr-inference-container:latest\n",
      "The push refers to repository [690704700794.dkr.ecr.cn-northwest-1.amazonaws.com.cn/ocr-inference-container]\n",
      "\n",
      "\u001b[1Be04b38d9: Preparing \n",
      "\u001b[1B405611de: Preparing \n",
      "\u001b[1B8de765f7: Preparing \n",
      "\u001b[1B3dc38dd2: Preparing \n",
      "\u001b[1B7cada391: Preparing \n",
      "\u001b[1Bf88abf9c: Preparing \n",
      "\u001b[1B0a26dcf7: Preparing \n",
      "\u001b[1B46e6fff3: Preparing \n",
      "\u001b[1B2ece745b: Preparing \n",
      "\u001b[1B20c8e85c: Preparing \n",
      "\u001b[1Bf34e396b: Preparing \n",
      "\u001b[1B8ac4e135: Preparing \n",
      "\u001b[1B0e920021: Preparing \n",
      "\u001b[1Bfa2c1ca3: Preparing \n",
      "\u001b[1Bba4962f3: Preparing \n",
      "\u001b[1B09d40302: Preparing \n",
      "\u001b[1B17e7fbf9: Preparing \n",
      "\u001b[1B895fac21: Preparing \n",
      "\u001b[1B57b1be2f: Preparing \n",
      "\u001b[1B260fc70b: Preparing \n",
      "\u001b[1B25d00bb6: Preparing \n",
      "\u001b[1B9ccfe508: Preparing \n",
      "\u001b[1B39aaf404: Preparing \n",
      "\u001b[1B9333c486: Preparing \n",
      "\u001b[1B80f86be3: Preparing \n",
      "\u001b[1B8c8d5f39: Preparing \n",
      "\u001b[1B7fbd6c92: Preparing \n",
      "\u001b[1B9d138968: Preparing \n",
      "\u001b[1Bd7d696f8: Pushed   126.6MB/122.6MB\u001b[27A\u001b[2K\u001b[28A\u001b[2K\u001b[27A\u001b[2K\u001b[29A\u001b[2K\u001b[25A\u001b[2K\u001b[28A\u001b[2K\u001b[24A\u001b[2K\u001b[28A\u001b[2K\u001b[24A\u001b[2K\u001b[21A\u001b[2K\u001b[24A\u001b[2K\u001b[28A\u001b[2K\u001b[22A\u001b[2K\u001b[24A\u001b[2K\u001b[28A\u001b[2K\u001b[22A\u001b[2K\u001b[22A\u001b[2K\u001b[28A\u001b[2K\u001b[23A\u001b[2K\u001b[22A\u001b[2K\u001b[22A\u001b[2K\u001b[28A\u001b[2K\u001b[24A\u001b[2K\u001b[28A\u001b[2K\u001b[28A\u001b[2K\u001b[28A\u001b[2K\u001b[22A\u001b[2K\u001b[28A\u001b[2K\u001b[22A\u001b[2K\u001b[28A\u001b[2K\u001b[22A\u001b[2K\u001b[28A\u001b[2K\u001b[22A\u001b[2K\u001b[22A\u001b[2K\u001b[23A\u001b[2K\u001b[22A\u001b[2K\u001b[28A\u001b[2K\u001b[22A\u001b[2K\u001b[23A\u001b[2K\u001b[22A\u001b[2K\u001b[28A\u001b[2K\u001b[28A\u001b[2K\u001b[22A\u001b[2K\u001b[23A\u001b[2K\u001b[28A\u001b[2K\u001b[28A\u001b[2K\u001b[28A\u001b[2K\u001b[22A\u001b[2K\u001b[24A\u001b[2K\u001b[28A\u001b[2K\u001b[28A\u001b[2K\u001b[20A\u001b[2K\u001b[23A\u001b[2K\u001b[28A\u001b[2K\u001b[23A\u001b[2K\u001b[28A\u001b[2K\u001b[22A\u001b[2K\u001b[28A\u001b[2K\u001b[22A\u001b[2K\u001b[28A\u001b[2K\u001b[22A\u001b[2K\u001b[28A\u001b[2K\u001b[22A\u001b[2K\u001b[28A\u001b[2K\u001b[19A\u001b[2K\u001b[19A\u001b[2K\u001b[22A\u001b[2K\u001b[28A\u001b[2K\u001b[22A\u001b[2K\u001b[28A\u001b[2K\u001b[22A\u001b[2K\u001b[28A\u001b[2K\u001b[22A\u001b[2K\u001b[28A\u001b[2K\u001b[28A\u001b[2K\u001b[22A\u001b[2K\u001b[23A\u001b[2K\u001b[22A\u001b[2K\u001b[23A\u001b[2K\u001b[23A\u001b[2K\u001b[19A\u001b[2K\u001b[23A\u001b[2K\u001b[28A\u001b[2K\u001b[23A\u001b[2K\u001b[28A\u001b[2K\u001b[23A\u001b[2K\u001b[28A\u001b[2K\u001b[23A\u001b[2K\u001b[28A\u001b[2K\u001b[23A\u001b[2K\u001b[28A\u001b[2K\u001b[28A\u001b[2K\u001b[28A\u001b[2K\u001b[23A\u001b[2K\u001b[23A\u001b[2K\u001b[23A\u001b[2K\u001b[28A\u001b[2K\u001b[23A\u001b[2K\u001b[28A\u001b[2K\u001b[23A\u001b[2K\u001b[28A\u001b[2K\u001b[23A\u001b[2K\u001b[28A\u001b[2K\u001b[23A\u001b[2K\u001b[23A\u001b[2K\u001b[23A\u001b[2K\u001b[18A\u001b[2K\u001b[23A\u001b[2K\u001b[28A\u001b[2K\u001b[23A\u001b[2K\u001b[28A\u001b[2K\u001b[23A\u001b[2K\u001b[28A\u001b[2K\u001b[23A\u001b[2K\u001b[28A\u001b[2K\u001b[23A\u001b[2K\u001b[28A\u001b[2K\u001b[23A\u001b[2K\u001b[28A\u001b[2K\u001b[23A\u001b[2K\u001b[28A\u001b[2K\u001b[28A\u001b[2K\u001b[16A\u001b[2K\u001b[28A\u001b[2K\u001b[23A\u001b[2K\u001b[28A\u001b[2K\u001b[23A\u001b[2K\u001b[28A\u001b[2K\u001b[23A\u001b[2K\u001b[28A\u001b[2K\u001b[23A\u001b[2K\u001b[28A\u001b[2K\u001b[23A\u001b[2K\u001b[15A\u001b[2K\u001b[23A\u001b[2K\u001b[28A\u001b[2K\u001b[15A\u001b[2K\u001b[23A\u001b[2K\u001b[23A\u001b[2K\u001b[15A\u001b[2K\u001b[14A\u001b[2K\u001b[28A\u001b[2K\u001b[14A\u001b[2K\u001b[15A\u001b[2K\u001b[14A\u001b[2K\u001b[15A\u001b[2K\u001b[15A\u001b[2K\u001b[28A\u001b[2K\u001b[16A\u001b[2K\u001b[15A\u001b[2K\u001b[14A\u001b[2K\u001b[28A\u001b[2K\u001b[23A\u001b[2K\u001b[15A\u001b[2K\u001b[14A\u001b[2K\u001b[28A\u001b[2K\u001b[23A\u001b[2K\u001b[28A\u001b[2K\u001b[14A\u001b[2K\u001b[23A\u001b[2K\u001b[23A\u001b[2K\u001b[15A\u001b[2K\u001b[28A\u001b[2K\u001b[14A\u001b[2K\u001b[28A\u001b[2K\u001b[14A\u001b[2K\u001b[28A\u001b[2K\u001b[13A\u001b[2K\u001b[14A\u001b[2K\u001b[13A\u001b[2K\u001b[14A\u001b[2K\u001b[28A\u001b[2K\u001b[13A\u001b[2K\u001b[23A\u001b[2K\u001b[13A\u001b[2K\u001b[14A\u001b[2K\u001b[28A\u001b[2K\u001b[23A\u001b[2K\u001b[14A\u001b[2K\u001b[13A\u001b[2K\u001b[14A\u001b[2K\u001b[23A\u001b[2K\u001b[28A\u001b[2K\u001b[14A\u001b[2K\u001b[13A\u001b[2K\u001b[15A\u001b[2K\u001b[14A\u001b[2K\u001b[13A\u001b[2K\u001b[28A\u001b[2K\u001b[13A\u001b[2K\u001b[15A\u001b[2K\u001b[13A\u001b[2K\u001b[28A\u001b[2K\u001b[15A\u001b[2K\u001b[13A\u001b[2K\u001b[28A\u001b[2K\u001b[23A\u001b[2K\u001b[28A\u001b[2K\u001b[14A\u001b[2K\u001b[23A\u001b[2K\u001b[13A\u001b[2K\u001b[14A\u001b[2K\u001b[23A\u001b[2K\u001b[14A\u001b[2K\u001b[28A\u001b[2K\u001b[13A\u001b[2K\u001b[14A\u001b[2K\u001b[28A\u001b[2K\u001b[14A\u001b[2K\u001b[13A\u001b[2K\u001b[23A\u001b[2K\u001b[14A\u001b[2K\u001b[13A\u001b[2K\u001b[15A\u001b[2K\u001b[28A\u001b[2K\u001b[13A\u001b[2K\u001b[15A\u001b[2K\u001b[23A\u001b[2K\u001b[14A\u001b[2K\u001b[28A\u001b[2K\u001b[13A\u001b[2K\u001b[15A\u001b[2K\u001b[13A\u001b[2K\u001b[15A\u001b[2K\u001b[23A\u001b[2K\u001b[15A\u001b[2K\u001b[13A\u001b[2K\u001b[14A\u001b[2K\u001b[28A\u001b[2K\u001b[13A\u001b[2K\u001b[28A\u001b[2K\u001b[28A\u001b[2K\u001b[13A\u001b[2K\u001b[28A\u001b[2K\u001b[13A\u001b[2K\u001b[15A\u001b[2K\u001b[23A\u001b[2K\u001b[14A\u001b[2K\u001b[13A\u001b[2K\u001b[23A\u001b[2K\u001b[28A\u001b[2K\u001b[23A\u001b[2K\u001b[23A\u001b[2K\u001b[13A\u001b[2K\u001b[15A\u001b[2K\u001b[23A\u001b[2K\u001b[13A\u001b[2K\u001b[23A\u001b[2K\u001b[23A\u001b[2K\u001b[13A\u001b[2K\u001b[23A\u001b[2K\u001b[15A\u001b[2K\u001b[28A\u001b[2K\u001b[23A\u001b[2K\u001b[23A\u001b[2K\u001b[13A\u001b[2K\u001b[14A\u001b[2K\u001b[23A\u001b[2K\u001b[13A\u001b[2K\u001b[23A\u001b[2K\u001b[13A\u001b[2K\u001b[15A\u001b[2K\u001b[28A\u001b[2K\u001b[23A\u001b[2K\u001b[13A\u001b[2K\u001b[23A\u001b[2K\u001b[15A\u001b[2K\u001b[15A\u001b[2K\u001b[28A\u001b[2K\u001b[13A\u001b[2K\u001b[15A\u001b[2K\u001b[28A\u001b[2K\u001b[13A\u001b[2K\u001b[28A\u001b[2K\u001b[13A\u001b[2K\u001b[28A\u001b[2K\u001b[14A\u001b[2K\u001b[13A\u001b[2K\u001b[13A\u001b[2K\u001b[28A\u001b[2K\u001b[15A\u001b[2K\u001b[14A\u001b[2K\u001b[15A\u001b[2K\u001b[28A\u001b[2K\u001b[15A\u001b[2K\u001b[23A\u001b[2K\u001b[15A\u001b[2K\u001b[13A\u001b[2K\u001b[28A\u001b[2K\u001b[14A\u001b[2K\u001b[15A\u001b[2K\u001b[13A\u001b[2K\u001b[28A\u001b[2K\u001b[12A\u001b[2K\u001b[13A\u001b[2K\u001b[28A\u001b[2K\u001b[13A\u001b[2K\u001b[15A\u001b[2K\u001b[28A\u001b[2K\u001b[13A\u001b[2K\u001b[28A\u001b[2K\u001b[13A\u001b[2K\u001b[15A\u001b[2K\u001b[13A\u001b[2K\u001b[15A\u001b[2K\u001b[13A\u001b[2K\u001b[14A\u001b[2K\u001b[15A\u001b[2K\u001b[12A\u001b[2K\u001b[28A\u001b[2K\u001b[13A\u001b[2K\u001b[12A\u001b[2K\u001b[15A\u001b[2K\u001b[14A\u001b[2K\u001b[15A\u001b[2K\u001b[12A\u001b[2K\u001b[13A\u001b[2K\u001b[15A\u001b[2K\u001b[28A\u001b[2K\u001b[12A\u001b[2K\u001b[13A\u001b[2K\u001b[12A\u001b[2K\u001b[13A\u001b[2K\u001b[28A\u001b[2K\u001b[12A\u001b[2K\u001b[14A\u001b[2K\u001b[12A\u001b[2K\u001b[12A\u001b[2K\u001b[13A\u001b[2K\u001b[28A\u001b[2K\u001b[13A\u001b[2K\u001b[15A\u001b[2K\u001b[12A\u001b[2K\u001b[13A\u001b[2K\u001b[28A\u001b[2K\u001b[12A\u001b[2K\u001b[28A\u001b[2K\u001b[15A\u001b[2K\u001b[28A\u001b[2K\u001b[15A\u001b[2K\u001b[28A\u001b[2K\u001b[12A\u001b[2K\u001b[13A\u001b[2K\u001b[15A\u001b[2K\u001b[14A\u001b[2K\u001b[13A\u001b[2K\u001b[15A\u001b[2K\u001b[13A\u001b[2K\u001b[15A\u001b[2K\u001b[13A\u001b[2K\u001b[15A\u001b[2K\u001b[13A\u001b[2K\u001b[14A\u001b[2K\u001b[15A\u001b[2K\u001b[15A\u001b[2K\u001b[28A\u001b[2K\u001b[15A\u001b[2K\u001b[14A\u001b[2K\u001b[28A\u001b[2K\u001b[15A\u001b[2K\u001b[28A\u001b[2K\u001b[15A\u001b[2K\u001b[13A\u001b[2K\u001b[15A\u001b[2K\u001b[28A\u001b[2K\u001b[15A\u001b[2K\u001b[28A\u001b[2K\u001b[15A\u001b[2K\u001b[13A\u001b[2K\u001b[28A\u001b[2K\u001b[15A\u001b[2K\u001b[14A\u001b[2K\u001b[12A\u001b[2K\u001b[15A\u001b[2K\u001b[14A\u001b[2K\u001b[15A\u001b[2K\u001b[13A\u001b[2K\u001b[28A\u001b[2K\u001b[13A\u001b[2K\u001b[15A\u001b[2K\u001b[28A\u001b[2K\u001b[13A\u001b[2K\u001b[15A\u001b[2K\u001b[14A\u001b[2K\u001b[13A\u001b[2K\u001b[14A\u001b[2K\u001b[13A\u001b[2K\u001b[28A\u001b[2K\u001b[15A\u001b[2K\u001b[13A\u001b[2K\u001b[14A\u001b[2K\u001b[13A\u001b[2K\u001b[13A\u001b[2K\u001b[14A\u001b[2K\u001b[13A\u001b[2K\u001b[28A\u001b[2K\u001b[14A\u001b[2K\u001b[15A\u001b[2K\u001b[13A\u001b[2K\u001b[15A\u001b[2K\u001b[28A\u001b[2K\u001b[15A\u001b[2K\u001b[14A\u001b[2K\u001b[13A\u001b[2K\u001b[11A\u001b[2K\u001b[15A\u001b[2K\u001b[13A\u001b[2K\u001b[14A\u001b[2K\u001b[15A\u001b[2K\u001b[28A\u001b[2K\u001b[13A\u001b[2K\u001b[15A\u001b[2K\u001b[11A\u001b[2K\u001b[28A\u001b[2K\u001b[14A\u001b[2K\u001b[15A\u001b[2K\u001b[13A\u001b[2K\u001b[15A\u001b[2K\u001b[13A\u001b[2K\u001b[14A\u001b[2K\u001b[15A\u001b[2K\u001b[14A\u001b[2K\u001b[15A\u001b[2K\u001b[11A\u001b[2K\u001b[13A\u001b[2K\u001b[13A\u001b[2K\u001b[28A\u001b[2K\u001b[13A\u001b[2K\u001b[13A\u001b[2K\u001b[15A\u001b[2K\u001b[11A\u001b[2K\u001b[15A\u001b[2K\u001b[13A\u001b[2K\u001b[11A\u001b[2K\u001b[15A\u001b[2K\u001b[13A\u001b[2K\u001b[13A\u001b[2K\u001b[15A\u001b[2K\u001b[13A\u001b[2K\u001b[15A\u001b[2K\u001b[11A\u001b[2K\u001b[28A\u001b[2K\u001b[13A\u001b[2K\u001b[15A\u001b[2K\u001b[11A\u001b[2K\u001b[13A\u001b[2K\u001b[28A\u001b[2K\u001b[11A\u001b[2K\u001b[28A\u001b[2K\u001b[11A\u001b[2K\u001b[13A\u001b[2K\u001b[13A\u001b[2K\u001b[28A\u001b[2K\u001b[13A\u001b[2K\u001b[14A\u001b[2K\u001b[11A\u001b[2K\u001b[11A\u001b[2K\u001b[14A\u001b[2K\u001b[11A\u001b[2K\u001b[13A\u001b[2K\u001b[15A\u001b[2K\u001b[14A\u001b[2K\u001b[13A\u001b[2K\u001b[15A\u001b[2K\u001b[13A\u001b[2K\u001b[15A\u001b[2K\u001b[14A\u001b[2K\u001b[15A\u001b[2K\u001b[13A\u001b[2K\u001b[15A\u001b[2K\u001b[13A\u001b[2K\u001b[11A\u001b[2K\u001b[14A\u001b[2K\u001b[13A\u001b[2K\u001b[28A\u001b[2K\u001b[13A\u001b[2K\u001b[13A\u001b[2K\u001b[13A\u001b[2K\u001b[11A\u001b[2K\u001b[14A\u001b[2K\u001b[11A\u001b[2K\u001b[13A\u001b[2K\u001b[15A\u001b[2K\u001b[13A\u001b[2K\u001b[15A\u001b[2K\u001b[14A\u001b[2K\u001b[11A\u001b[2K\u001b[15A\u001b[2K\u001b[11A\u001b[2K\u001b[11A\u001b[2K\u001b[13A\u001b[2K\u001b[13A\u001b[2K\u001b[15A\u001b[2K\u001b[13A\u001b[2K\u001b[15A\u001b[2K\u001b[11A\u001b[2K\u001b[13A\u001b[2K\u001b[11A\u001b[2K\u001b[13A\u001b[2K\u001b[11A\u001b[2K\u001b[15A\u001b[2K\u001b[11A\u001b[2K\u001b[15A\u001b[2K\u001b[11A\u001b[2K\u001b[28A\u001b[2K\u001b[13A\u001b[2K\u001b[13A\u001b[2K\u001b[15A\u001b[2K\u001b[13A\u001b[2K\u001b[14A\u001b[2K\u001b[15A\u001b[2K\u001b[28A\u001b[2K\u001b[14A\u001b[2K\u001b[11A\u001b[2K\u001b[15A\u001b[2K\u001b[14A\u001b[2K\u001b[11A\u001b[2K\u001b[15A\u001b[2K\u001b[13A\u001b[2K\u001b[14A\u001b[2K\u001b[15A\u001b[2K\u001b[11A\u001b[2K\u001b[13A\u001b[2K\u001b[11A\u001b[2K\u001b[13A\u001b[2K\u001b[13A\u001b[2K\u001b[15A\u001b[2K\u001b[11A\u001b[2K\u001b[13A\u001b[2K\u001b[15A\u001b[2K\u001b[13A\u001b[2K\u001b[15A\u001b[2K\u001b[14A\u001b[2K\u001b[15A\u001b[2K\u001b[13A\u001b[2K\u001b[15A\u001b[2K\u001b[11A\u001b[2K\u001b[13A\u001b[2K\u001b[15A\u001b[2K\u001b[13A\u001b[2K\u001b[15A\u001b[2K\u001b[13A\u001b[2K\u001b[15A\u001b[2K\u001b[13A\u001b[2K\u001b[15A\u001b[2K\u001b[14A\u001b[2K\u001b[11A\u001b[2K\u001b[13A\u001b[2K\u001b[11A\u001b[2K\u001b[15A\u001b[2K\u001b[11A\u001b[2K\u001b[15A\u001b[2K\u001b[13A\u001b[2K\u001b[11A\u001b[2K\u001b[13A\u001b[2K\u001b[28A\u001b[2K\u001b[15A\u001b[2K\u001b[28A\u001b[2K\u001b[13A\u001b[2K\u001b[28A\u001b[2K\u001b[11A\u001b[2K\u001b[15A\u001b[2K\u001b[13A\u001b[2K\u001b[11A\u001b[2K\u001b[28A\u001b[2K\u001b[11A\u001b[2K\u001b[15A\u001b[2K\u001b[28A\u001b[2K\u001b[11A\u001b[2K\u001b[28A\u001b[2K\u001b[15A\u001b[2K\u001b[28A\u001b[2K\u001b[15A\u001b[2K\u001b[11A\u001b[2K\u001b[15A\u001b[2K\u001b[11A\u001b[2K\u001b[15A\u001b[2K\u001b[11A\u001b[2K\u001b[15A\u001b[2K\u001b[11A\u001b[2K\u001b[15A\u001b[2K\u001b[11A\u001b[2K\u001b[15A\u001b[2K\u001b[11A\u001b[2K\u001b[15A\u001b[2K\u001b[11A\u001b[2K\u001b[15A\u001b[2K\u001b[11A\u001b[2K\u001b[14A\u001b[2K\u001b[11A\u001b[2K\u001b[28A\u001b[2K\u001b[15A\u001b[2K\u001b[11A\u001b[2K\u001b[13A\u001b[2K\u001b[15A\u001b[2K\u001b[28A\u001b[2K\u001b[11A\u001b[2K\u001b[15A\u001b[2K\u001b[11A\u001b[2K\u001b[13A\u001b[2K\u001b[15A\u001b[2K\u001b[28A\u001b[2K\u001b[15A\u001b[2K\u001b[28A\u001b[2K\u001b[15A\u001b[2K\u001b[28A\u001b[2K\u001b[15A\u001b[2K\u001b[28A\u001b[2K\u001b[15A\u001b[2K\u001b[28A\u001b[2K\u001b[14A\u001b[2K\u001b[11A\u001b[2K\u001b[28A\u001b[2K\u001b[13A\u001b[2K\u001b[28A\u001b[2K\u001b[13A\u001b[2K\u001b[28A\u001b[2K\u001b[13A\u001b[2K\u001b[15A\u001b[2K\u001b[28A\u001b[2K\u001b[15A\u001b[2K\u001b[13A\u001b[2K\u001b[15A\u001b[2K\u001b[28A\u001b[2K\u001b[11A\u001b[2K\u001b[14A\u001b[2K\u001b[13A\u001b[2K\u001b[11A\u001b[2K\u001b[28A\u001b[2K\u001b[11A\u001b[2K\u001b[28A\u001b[2K\u001b[11A\u001b[2K\u001b[28A\u001b[2K\u001b[13A\u001b[2K\u001b[28A\u001b[2K\u001b[11A\u001b[2K\u001b[28A\u001b[2K\u001b[15A\u001b[2K\u001b[28A\u001b[2K\u001b[13A\u001b[2K\u001b[15A\u001b[2K\u001b[28A\u001b[2K\u001b[11A\u001b[2K\u001b[28A\u001b[2K\u001b[15A\u001b[2K\u001b[28A\u001b[2K\u001b[11A\u001b[2K\u001b[28A\u001b[2K\u001b[15A\u001b[2K\u001b[28A\u001b[2K\u001b[15A\u001b[2K\u001b[28A\u001b[2K\u001b[11A\u001b[2K\u001b[15A\u001b[2K\u001b[28A\u001b[2K\u001b[15A\u001b[2K\u001b[13A\u001b[2K\u001b[15A\u001b[2K\u001b[13A\u001b[2K\u001b[15A\u001b[2K\u001b[11A\u001b[2K\u001b[15A\u001b[2K\u001b[13A\u001b[2K\u001b[15A\u001b[2K\u001b[13A\u001b[2K\u001b[15A\u001b[2K\u001b[11A\u001b[2K\u001b[13A\u001b[2K\u001b[15A\u001b[2K\u001b[11A\u001b[2K\u001b[15A\u001b[2K\u001b[15A\u001b[2K\u001b[13A\u001b[2K\u001b[15A\u001b[2K\u001b[13A\u001b[2K\u001b[15A\u001b[2K\u001b[14A\u001b[2K\u001b[15A\u001b[2K\u001b[15A\u001b[2K\u001b[11A\u001b[2K\u001b[14A\u001b[2K\u001b[11A\u001b[2K\u001b[15A\u001b[2K\u001b[11A\u001b[2K\u001b[15A\u001b[2K\u001b[11A\u001b[2K\u001b[15A\u001b[2K\u001b[11A\u001b[2K\u001b[15A\u001b[2K\u001b[11A\u001b[2K\u001b[28A\u001b[2K\u001b[14A\u001b[2K\u001b[15A\u001b[2K\u001b[11A\u001b[2K\u001b[15A\u001b[2K\u001b[11A\u001b[2K\u001b[13A\u001b[2K\u001b[11A\u001b[2K\u001b[15A\u001b[2K\u001b[11A\u001b[2K\u001b[15A\u001b[2K\u001b[13A\u001b[2K\u001b[11A\u001b[2K\u001b[13A\u001b[2K\u001b[15A\u001b[2K\u001b[13A\u001b[2K\u001b[11A\u001b[2K\u001b[13A\u001b[2K\u001b[11A\u001b[2K\u001b[13A\u001b[2K\u001b[13A\u001b[2K\u001b[15A\u001b[2K\u001b[14A\u001b[2K\u001b[15A\u001b[2K\u001b[11A\u001b[2K\u001b[15A\u001b[2K\u001b[11A\u001b[2K\u001b[15A\u001b[2K\u001b[10A\u001b[2K\u001b[15A\u001b[2K\u001b[10A\u001b[2K\u001b[13A\u001b[2K\u001b[10A\u001b[2K\u001b[11A\u001b[2K\u001b[10A\u001b[2K\u001b[13A\u001b[2K\u001b[10A\u001b[2K\u001b[13A\u001b[2K\u001b[10A\u001b[2K\u001b[15A\u001b[2K\u001b[15A\u001b[2K\u001b[10A\u001b[2K\u001b[15A\u001b[2K\u001b[10A\u001b[2K\u001b[13A\u001b[2K\u001b[15A\u001b[2K\u001b[10A\u001b[2K\u001b[13A\u001b[2K\u001b[15A\u001b[2K\u001b[10A\u001b[2K\u001b[10A\u001b[2K\u001b[15A\u001b[2K\u001b[10A\u001b[2K\u001b[13A\u001b[2K\u001b[14A\u001b[2K\u001b[15A\u001b[2K\u001b[10A\u001b[2K\u001b[11A\u001b[2K\u001b[15A\u001b[2K\u001b[10A\u001b[2K\u001b[15A\u001b[2K\u001b[13A\u001b[2K\u001b[10A\u001b[2K\u001b[13A\u001b[2K\u001b[10A\u001b[2K\u001b[15A\u001b[2K\u001b[13A\u001b[2K\u001b[10A\u001b[2K\u001b[14A\u001b[2K\u001b[10A\u001b[2K\u001b[15A\u001b[2K\u001b[13A\u001b[2K\u001b[10A\u001b[2K\u001b[15A\u001b[2K\u001b[13A\u001b[2K\u001b[15A\u001b[2K\u001b[15A\u001b[2K\u001b[13A\u001b[2K\u001b[15A\u001b[2K\u001b[13A\u001b[2K\u001b[10A\u001b[2K\u001b[15A\u001b[2K\u001b[13A\u001b[2K\u001b[10A\u001b[2K\u001b[15A\u001b[2K\u001b[13A\u001b[2K\u001b[10A\u001b[2K\u001b[14A\u001b[2K\u001b[10A\u001b[2K\u001b[13A\u001b[2K\u001b[15A\u001b[2K\u001b[10A\u001b[2K\u001b[13A\u001b[2K\u001b[15A\u001b[2K\u001b[11A\u001b[2K\u001b[15A\u001b[2K\u001b[13A\u001b[2K\u001b[15A\u001b[2K\u001b[11A\u001b[2K\u001b[15A\u001b[2K\u001b[13A\u001b[2K\u001b[15A\u001b[2K\u001b[10A\u001b[2K\u001b[15A\u001b[2K\u001b[10A\u001b[2K\u001b[13A\u001b[2K\u001b[14A\u001b[2K\u001b[10A\u001b[2K\u001b[15A\u001b[2K\u001b[15A\u001b[2K\u001b[11A\u001b[2K\u001b[10A\u001b[2K\u001b[13A\u001b[2K\u001b[10A\u001b[2K\u001b[15A\u001b[2K\u001b[10A\u001b[2K\u001b[13A\u001b[2K\u001b[14A\u001b[2K\u001b[13A\u001b[2K\u001b[10A\u001b[2K\u001b[11A\u001b[2K\u001b[15A\u001b[2K\u001b[10A\u001b[2K\u001b[13A\u001b[2K\u001b[10A\u001b[2K\u001b[11A\u001b[2K\u001b[14A\u001b[2K\u001b[10A\u001b[2K\u001b[14A\u001b[2K\u001b[10A\u001b[2K\u001b[14A\u001b[2K\u001b[10A\u001b[2K\u001b[14A\u001b[2K\u001b[11A\u001b[2K\u001b[14A\u001b[2K\u001b[13A\u001b[2K\u001b[10A\u001b[2K\u001b[11A\u001b[2K\u001b[15A\u001b[2K\u001b[10A\u001b[2K\u001b[15A\u001b[2K\u001b[13A\u001b[2K\u001b[10A\u001b[2K\u001b[11A\u001b[2K\u001b[10A\u001b[2K\u001b[11A\u001b[2K\u001b[13A\u001b[2K\u001b[14A\u001b[2K\u001b[11A\u001b[2K\u001b[10A\u001b[2K\u001b[14A\u001b[2K\u001b[11A\u001b[2K\u001b[13A\u001b[2K\u001b[13A\u001b[2K\u001b[10A\u001b[2K\u001b[14A\u001b[2K\u001b[15A\u001b[2K\u001b[11A\u001b[2K\u001b[14A\u001b[2K\u001b[11A\u001b[2K\u001b[15A\u001b[2K\u001b[13A\u001b[2K\u001b[11A\u001b[2K\u001b[15A\u001b[2K\u001b[13A\u001b[2K\u001b[15A\u001b[2K\u001b[11A\u001b[2K\u001b[14A\u001b[2K\u001b[10A\u001b[2K\u001b[13A\u001b[2K\u001b[10A\u001b[2K\u001b[11A\u001b[2K\u001b[15A\u001b[2K\u001b[10A\u001b[2K\u001b[15A\u001b[2K\u001b[14A\u001b[2K\u001b[15A\u001b[2K\u001b[14A\u001b[2K\u001b[13A\u001b[2K\u001b[14A\u001b[2K\u001b[10A\u001b[2K\u001b[15A\u001b[2K\u001b[10A\u001b[2K\u001b[14A\u001b[2K\u001b[10A\u001b[2K\u001b[14A\u001b[2K\u001b[13A\u001b[2K\u001b[11A\u001b[2K\u001b[14A\u001b[2K\u001b[13A\u001b[2K\u001b[11A\u001b[2K\u001b[10A\u001b[2K\u001b[15A\u001b[2K\u001b[10A\u001b[2K\u001b[13A\u001b[2K\u001b[15A\u001b[2K\u001b[14A\u001b[2K\u001b[10A\u001b[2K\u001b[15A\u001b[2K\u001b[14A\u001b[2K\u001b[15A\u001b[2K\u001b[10A\u001b[2K\u001b[14A\u001b[2K\u001b[15A\u001b[2K\u001b[14A\u001b[2K\u001b[14A\u001b[2K\u001b[10A\u001b[2K\u001b[15A\u001b[2K\u001b[14A\u001b[2K\u001b[15A\u001b[2K\u001b[11A\u001b[2K\u001b[14A\u001b[2K\u001b[15A\u001b[2K\u001b[10A\u001b[2K\u001b[15A\u001b[2K\u001b[13A\u001b[2K\u001b[14A\u001b[2K\u001b[15A\u001b[2K\u001b[11A\u001b[2K\u001b[14A\u001b[2K\u001b[10A\u001b[2K\u001b[13A\u001b[2K\u001b[14A\u001b[2K\u001b[10A\u001b[2K\u001b[14A\u001b[2K\u001b[10A\u001b[2K\u001b[15A\u001b[2K\u001b[14A\u001b[2K\u001b[15A\u001b[2K\u001b[15A\u001b[2K\u001b[10A\u001b[2K\u001b[10A\u001b[2K\u001b[15A\u001b[2K\u001b[13A\u001b[2K\u001b[10A\u001b[2K\u001b[14A\u001b[2K\u001b[11A\u001b[2K\u001b[13A\u001b[2K\u001b[15A\u001b[2K\u001b[11A\u001b[2K\u001b[14A\u001b[2K\u001b[11A\u001b[2K\u001b[10A\u001b[2K\u001b[15A\u001b[2K\u001b[10A\u001b[2K\u001b[14A\u001b[2K\u001b[10A\u001b[2K\u001b[13A\u001b[2K\u001b[10A\u001b[2K\u001b[13A\u001b[2K\u001b[10A\u001b[2K\u001b[13A\u001b[2K\u001b[10A\u001b[2K\u001b[13A\u001b[2K\u001b[10A\u001b[2K\u001b[14A\u001b[2K\u001b[15A\u001b[2K\u001b[13A\u001b[2K\u001b[11A\u001b[2K\u001b[14A\u001b[2K\u001b[10A\u001b[2K\u001b[11A\u001b[2K\u001b[10A\u001b[2K\u001b[13A\u001b[2K\u001b[14A\u001b[2K\u001b[13A\u001b[2K\u001b[14A\u001b[2K\u001b[15A\u001b[2K\u001b[10A\u001b[2K\u001b[11A\u001b[2K\u001b[13A\u001b[2K\u001b[15A\u001b[2K\u001b[13A\u001b[2K\u001b[10A\u001b[2K\u001b[11A\u001b[2K\u001b[13A\u001b[2K\u001b[15A\u001b[2K\u001b[10A\u001b[2K\u001b[15A\u001b[2K\u001b[13A\u001b[2K\u001b[15A\u001b[2K\u001b[13A\u001b[2K\u001b[11A\u001b[2K\u001b[13A\u001b[2K\u001b[14A\u001b[2K\u001b[13A\u001b[2K\u001b[15A\u001b[2K\u001b[15A\u001b[2K\u001b[10A\u001b[2K\u001b[13A\u001b[2K\u001b[10A\u001b[2K\u001b[13A\u001b[2K\u001b[11A\u001b[2K\u001b[13A\u001b[2K\u001b[15A\u001b[2K\u001b[13A\u001b[2K\u001b[11A\u001b[2K\u001b[14A\u001b[2K\u001b[10A\u001b[2K\u001b[15A\u001b[2K\u001b[14A\u001b[2K\u001b[13A\u001b[2K\u001b[13A\u001b[2K\u001b[15A\u001b[2K\u001b[13A\u001b[2K\u001b[15A\u001b[2K\u001b[11A\u001b[2K\u001b[15A\u001b[2K\u001b[13A\u001b[2K\u001b[15A\u001b[2K\u001b[13A\u001b[2K\u001b[15A\u001b[2K\u001b[14A\u001b[2K\u001b[11A\u001b[2K\u001b[15A\u001b[2K\u001b[11A\u001b[2K\u001b[13A\u001b[2K\u001b[11A\u001b[2K\u001b[10A\u001b[2K\u001b[13A\u001b[2K\u001b[10A\u001b[2K\u001b[10A\u001b[2K\u001b[13A\u001b[2K\u001b[14A\u001b[2K\u001b[13A\u001b[2K\u001b[11A\u001b[2K\u001b[10A\u001b[2K\u001b[15A\u001b[2K\u001b[14A\u001b[2K\u001b[11A\u001b[2K\u001b[15A\u001b[2K\u001b[10A\u001b[2K\u001b[13A\u001b[2K\u001b[10A\u001b[2K\u001b[15A\u001b[2K\u001b[11A\u001b[2K\u001b[13A\u001b[2K\u001b[11A\u001b[2K\u001b[13A\u001b[2K\u001b[10A\u001b[2K\u001b[15A\u001b[2K\u001b[10A\u001b[2K\u001b[13A\u001b[2K\u001b[13A\u001b[2K\u001b[10A\u001b[2K\u001b[11A\u001b[2K\u001b[14A\u001b[2K\u001b[15A\u001b[2K\u001b[13A\u001b[2K\u001b[14A\u001b[2K\u001b[15A\u001b[2K\u001b[10A\u001b[2K\u001b[15A\u001b[2K\u001b[14A\u001b[2K\u001b[15A\u001b[2K\u001b[14A\u001b[2K\u001b[10A\u001b[2K\u001b[15A\u001b[2K\u001b[14A\u001b[2K\u001b[10A\u001b[2K\u001b[11A\u001b[2K\u001b[15A\u001b[2K\u001b[10A\u001b[2K\u001b[15A\u001b[2K\u001b[14A\u001b[2K\u001b[10A\u001b[2K\u001b[14A\u001b[2K\u001b[10A\u001b[2K\u001b[15A\u001b[2K\u001b[14A\u001b[2K\u001b[10A\u001b[2K\u001b[15A\u001b[2K\u001b[14A\u001b[2K\u001b[11A\u001b[2K\u001b[10A\u001b[2K\u001b[11A\u001b[2K\u001b[10A\u001b[2K\u001b[15A\u001b[2K\u001b[14A\u001b[2K\u001b[15A\u001b[2K\u001b[11A\u001b[2K\u001b[10A\u001b[2K\u001b[13A\u001b[2K\u001b[14A\u001b[2K\u001b[15A\u001b[2K\u001b[11A\u001b[2K\u001b[10A\u001b[2K\u001b[11A\u001b[2K\u001b[14A\u001b[2K\u001b[15A\u001b[2K\u001b[11A\u001b[2K\u001b[15A\u001b[2K\u001b[11A\u001b[2K\u001b[10A\u001b[2K\u001b[15A\u001b[2K\u001b[14A\u001b[2K\u001b[15A\u001b[2K\u001b[14A\u001b[2K\u001b[13A\u001b[2K\u001b[14A\u001b[2K\u001b[15A\u001b[2K\u001b[14A\u001b[2K\u001b[13A\u001b[2K\u001b[11A\u001b[2K\u001b[14A\u001b[2K\u001b[15A\u001b[2K\u001b[14A\u001b[2K\u001b[15A\u001b[2K\u001b[14A\u001b[2K\u001b[15A\u001b[2K\u001b[13A\u001b[2K\u001b[14A\u001b[2K\u001b[15A\u001b[2K\u001b[11A\u001b[2K\u001b[15A\u001b[2K\u001b[14A\u001b[2K\u001b[15A\u001b[2K\u001b[11A\u001b[2K\u001b[14A\u001b[2K\u001b[11A\u001b[2K\u001b[14A\u001b[2K\u001b[11A\u001b[2K\u001b[14A\u001b[2K\u001b[11A\u001b[2K\u001b[15A\u001b[2K\u001b[14A\u001b[2K\u001b[15A\u001b[2K\u001b[11A\u001b[2K\u001b[15A\u001b[2K\u001b[14A\u001b[2K\u001b[11A\u001b[2K\u001b[10A\u001b[2K\u001b[14A\u001b[2K\u001b[10A\u001b[2K\u001b[11A\u001b[2K\u001b[13A\u001b[2K\u001b[11A\u001b[2K\u001b[10A\u001b[2K\u001b[13A\u001b[2K\u001b[11A\u001b[2K\u001b[14A\u001b[2K\u001b[13A\u001b[2K\u001b[14A\u001b[2K\u001b[13A\u001b[2K\u001b[10A\u001b[2K\u001b[14A\u001b[2K\u001b[13A\u001b[2K\u001b[10A\u001b[2K\u001b[13A\u001b[2K\u001b[11A\u001b[2K\u001b[14A\u001b[2K\u001b[15A\u001b[2K\u001b[15A\u001b[2K\u001b[14A\u001b[2K\u001b[11A\u001b[2K\u001b[15A\u001b[2K\u001b[14A\u001b[2K\u001b[11A\u001b[2K\u001b[14A\u001b[2K\u001b[11A\u001b[2K\u001b[15A\u001b[2K\u001b[14A\u001b[2K\u001b[15A\u001b[2K\u001b[10A\u001b[2K\u001b[14A\u001b[2K\u001b[15A\u001b[2K\u001b[11A\u001b[2K\u001b[14A\u001b[2K\u001b[11A\u001b[2K\u001b[14A\u001b[2K\u001b[11A\u001b[2K\u001b[14A\u001b[2K\u001b[15A\u001b[2K\u001b[14A\u001b[2K\u001b[11A\u001b[2K\u001b[14A\u001b[2K\u001b[15A\u001b[2K\u001b[10A\u001b[2K\u001b[14A\u001b[2K\u001b[11A\u001b[2K\u001b[14A\u001b[2K\u001b[11A\u001b[2K\u001b[10A\u001b[2K\u001b[14A\u001b[2K\u001b[15A\u001b[2K\u001b[14A\u001b[2K\u001b[15A\u001b[2K\u001b[11A\u001b[2K\u001b[15A\u001b[2K\u001b[14A\u001b[2K\u001b[11A\u001b[2K\u001b[14A\u001b[2K\u001b[11A\u001b[2K\u001b[15A\u001b[2K\u001b[11A\u001b[2K\u001b[15A\u001b[2K\u001b[11A\u001b[2K\u001b[15A\u001b[2K\u001b[14A\u001b[2K\u001b[11A\u001b[2K\u001b[10A\u001b[2K\u001b[11A\u001b[2K\u001b[15A\u001b[2K\u001b[11A\u001b[2K\u001b[15A\u001b[2K\u001b[14A\u001b[2K\u001b[11A\u001b[2K\u001b[10A\u001b[2K\u001b[14A\u001b[2K\u001b[15A\u001b[2K\u001b[14A\u001b[2K\u001b[11A\u001b[2K\u001b[15A\u001b[2K\u001b[14A\u001b[2K\u001b[15A\u001b[2K\u001b[11A\u001b[2K\u001b[14A\u001b[2K\u001b[11A\u001b[2K\u001b[10A\u001b[2K\u001b[11A\u001b[2K\u001b[15A\u001b[2K\u001b[10A\u001b[2K\u001b[11A\u001b[2K\u001b[14A\u001b[2K\u001b[11A\u001b[2K\u001b[13A\u001b[2K\u001b[14A\u001b[2K\u001b[11A\u001b[2K\u001b[13A\u001b[2K\u001b[14A\u001b[2K\u001b[15A\u001b[2K\u001b[13A\u001b[2K\u001b[15A\u001b[2K\u001b[10A\u001b[2K\u001b[15A\u001b[2K\u001b[13A\u001b[2K\u001b[15A\u001b[2K\u001b[13A\u001b[2K\u001b[15A\u001b[2K\u001b[13A\u001b[2K\u001b[15A\u001b[2K\u001b[10A\u001b[2K\u001b[14A\u001b[2K\u001b[15A\u001b[2K\u001b[11A\u001b[2K\u001b[14A\u001b[2K\u001b[13A\u001b[2K\u001b[14A\u001b[2K\u001b[11A\u001b[2K\u001b[14A\u001b[2K\u001b[15A\u001b[2K\u001b[14A\u001b[2K\u001b[13A\u001b[2K\u001b[14A\u001b[2K\u001b[11A\u001b[2K\u001b[14A\u001b[2K\u001b[13A\u001b[2K\u001b[14A\u001b[2K\u001b[15A\u001b[2K\u001b[11A\u001b[2K\u001b[13A\u001b[2K\u001b[14A\u001b[2K\u001b[15A\u001b[2K\u001b[14A\u001b[2K\u001b[15A\u001b[2K\u001b[10A\u001b[2K\u001b[11A\u001b[2K\u001b[13A\u001b[2K\u001b[14A\u001b[2K\u001b[13A\u001b[2K\u001b[14A\u001b[2K\u001b[10A\u001b[2K\u001b[11A\u001b[2K\u001b[13A\u001b[2K\u001b[14A\u001b[2K\u001b[10A\u001b[2K\u001b[14A\u001b[2K\u001b[13A\u001b[2K\u001b[14A\u001b[2K\u001b[13A\u001b[2K\u001b[14A\u001b[2K\u001b[10A\u001b[2K\u001b[13A\u001b[2K\u001b[10A\u001b[2K\u001b[14A\u001b[2K\u001b[14A\u001b[2K\u001b[10A\u001b[2K\u001b[14A\u001b[2K\u001b[13A\u001b[2K\u001b[14A\u001b[2K\u001b[10A\u001b[2K\u001b[13A\u001b[2K\u001b[14A\u001b[2K\u001b[14A\u001b[2K\u001b[15A\u001b[2K\u001b[14A\u001b[2K\u001b[14A\u001b[2K\u001b[10A\u001b[2K\u001b[14A\u001b[2K\u001b[10A\u001b[2K\u001b[14A\u001b[2K\u001b[10A\u001b[2K\u001b[14A\u001b[2K\u001b[10A\u001b[2K\u001b[13A\u001b[2K\u001b[14A\u001b[2K\u001b[14A\u001b[2K\u001b[10A\u001b[2K\u001b[13A\u001b[2K\u001b[14A\u001b[2K\u001b[15A\u001b[2K\u001b[11A\u001b[2K\u001b[15A\u001b[2K\u001b[10A\u001b[2K\u001b[14A\u001b[2K\u001b[10A\u001b[2K\u001b[14A\u001b[2K\u001b[13A\u001b[2K\u001b[14A\u001b[2K\u001b[10A\u001b[2K\u001b[14A\u001b[2K\u001b[15A\u001b[2K\u001b[14A\u001b[2K\u001b[10A\u001b[2K\u001b[15A\u001b[2K\u001b[11A\u001b[2K\u001b[14A\u001b[2K\u001b[13A\u001b[2K\u001b[14A\u001b[2K\u001b[10A\u001b[2K\u001b[13A\u001b[2K\u001b[14A\u001b[2K\u001b[13A\u001b[2K\u001b[15A\u001b[2K\u001b[14A\u001b[2K\u001b[10A\u001b[2K\u001b[14A\u001b[2K\u001b[13A\u001b[2K\u001b[14A\u001b[2K\u001b[11A\u001b[2K\u001b[14A\u001b[2K\u001b[15A\u001b[2K\u001b[14A\u001b[2K\u001b[10A\u001b[2K\u001b[14A\u001b[2K\u001b[10A\u001b[2K\u001b[13A\u001b[2K\u001b[14A\u001b[2K\u001b[15A\u001b[2K\u001b[14A\u001b[2K\u001b[15A\u001b[2K\u001b[10A\u001b[2K\u001b[14A\u001b[2K\u001b[10A\u001b[2K\u001b[13A\u001b[2K\u001b[11A\u001b[2K\u001b[15A\u001b[2K\u001b[14A\u001b[2K\u001b[15A\u001b[2K\u001b[13A\u001b[2K\u001b[14A\u001b[2K\u001b[10A\u001b[2K\u001b[13A\u001b[2K\u001b[14A\u001b[2K\u001b[15A\u001b[2K\u001b[13A\u001b[2K\u001b[15A\u001b[2K\u001b[14A\u001b[2K\u001b[10A\u001b[2K\u001b[15A\u001b[2K\u001b[10A\u001b[2K\u001b[14A\u001b[2K\u001b[10A\u001b[2K\u001b[13A\u001b[2K\u001b[14A\u001b[2K\u001b[10A\u001b[2K\u001b[14A\u001b[2K\u001b[13A\u001b[2K\u001b[15A\u001b[2K\u001b[11A\u001b[2K\u001b[14A\u001b[2K\u001b[10A\u001b[2K\u001b[14A\u001b[2K\u001b[11A\u001b[2K\u001b[14A\u001b[2K\u001b[10A\u001b[2K\u001b[14A\u001b[2K\u001b[11A\u001b[2K\u001b[13A\u001b[2K\u001b[14A\u001b[2K\u001b[13A\u001b[2K\u001b[14A\u001b[2K\u001b[13A\u001b[2K\u001b[10A\u001b[2K\u001b[13A\u001b[2K\u001b[10A\u001b[2K\u001b[13A\u001b[2K\u001b[11A\u001b[2K\u001b[13A\u001b[2K\u001b[11A\u001b[2K\u001b[13A\u001b[2K\u001b[14A\u001b[2K\u001b[13A\u001b[2K\u001b[15A\u001b[2K\u001b[10A\u001b[2K\u001b[15A\u001b[2K\u001b[14A\u001b[2K\u001b[13A\u001b[2K\u001b[14A\u001b[2K\u001b[13A\u001b[2K\u001b[10A\u001b[2K\u001b[14A\u001b[2K\u001b[15A\u001b[2K\u001b[13A\u001b[2K\u001b[14A\u001b[2K\u001b[13A\u001b[2K\u001b[14A\u001b[2K\u001b[10A\u001b[2K\u001b[14A\u001b[2K\u001b[14A\u001b[2K\u001b[13A\u001b[2K\u001b[10A\u001b[2K\u001b[13A\u001b[2K\u001b[13A\u001b[2K\u001b[14A\u001b[2K\u001b[13A\u001b[2K\u001b[14A\u001b[2K\u001b[13A\u001b[2K\u001b[10A\u001b[2K\u001b[13A\u001b[2K\u001b[13A\u001b[2K\u001b[10A\u001b[2K\u001b[14A\u001b[2K\u001b[10A\u001b[2K\u001b[14A\u001b[2K\u001b[10A\u001b[2K\u001b[13A\u001b[2K\u001b[14A\u001b[2K\u001b[13A\u001b[2K\u001b[14A\u001b[2K\u001b[10A\u001b[2K\u001b[11A\u001b[2K\u001b[14A\u001b[2K\u001b[13A\u001b[2K\u001b[10A\u001b[2K\u001b[13A\u001b[2K\u001b[15A\u001b[2K\u001b[14A\u001b[2K\u001b[13A\u001b[2K\u001b[14A\u001b[2K\u001b[13A\u001b[2K\u001b[14A\u001b[2K\u001b[14A\u001b[2K\u001b[13A\u001b[2K\u001b[14A\u001b[2K\u001b[13A\u001b[2K\u001b[10A\u001b[2K\u001b[14A\u001b[2K\u001b[14A\u001b[2K\u001b[13A\u001b[2K\u001b[14A\u001b[2K\u001b[13A\u001b[2K\u001b[10A\u001b[2K\u001b[14A\u001b[2K\u001b[14A\u001b[2K\u001b[11A\u001b[2K\u001b[14A\u001b[2K\u001b[11A\u001b[2K\u001b[15A\u001b[2K\u001b[14A\u001b[2K\u001b[14A\u001b[2K\u001b[13A\u001b[2K\u001b[14A\u001b[2K\u001b[10A\u001b[2K\u001b[13A\u001b[2K\u001b[14A\u001b[2K\u001b[13A\u001b[2K\u001b[14A\u001b[2K\u001b[13A\u001b[2K\u001b[14A\u001b[2K\u001b[11A\u001b[2K\u001b[11A\u001b[2K\u001b[14A\u001b[2K\u001b[13A\u001b[2K\u001b[14A\u001b[2K\u001b[13A\u001b[2K\u001b[14A\u001b[2K\u001b[13A\u001b[2K\u001b[14A\u001b[2K\u001b[11A\u001b[2K\u001b[13A\u001b[2K\u001b[10A\u001b[2K\u001b[11A\u001b[2K\u001b[15A\u001b[2K\u001b[14A\u001b[2K\u001b[15A\u001b[2K\u001b[10A\u001b[2K\u001b[11A\u001b[2K\u001b[15A\u001b[2K\u001b[10A\u001b[2K\u001b[11A\u001b[2K\u001b[15A\u001b[2K\u001b[14A\u001b[2K\u001b[10A\u001b[2K\u001b[15A\u001b[2K\u001b[11A\u001b[2K\u001b[13A\u001b[2K\u001b[10A\u001b[2K\u001b[13A\u001b[2K\u001b[10A\u001b[2K\u001b[11A\u001b[2K\u001b[13A\u001b[2K\u001b[15A\u001b[2K\u001b[13A\u001b[2K\u001b[14A\u001b[2K\u001b[15A\u001b[2K\u001b[10A\u001b[2K\u001b[15A\u001b[2K\u001b[13A\u001b[2K\u001b[10A\u001b[2K\u001b[15A\u001b[2K\u001b[13A\u001b[2K\u001b[11A\u001b[2K\u001b[13A\u001b[2K\u001b[15A\u001b[2K\u001b[13A\u001b[2K\u001b[15A\u001b[2K\u001b[10A\u001b[2K\u001b[15A\u001b[2K\u001b[10A\u001b[2K\u001b[15A\u001b[2K\u001b[13A\u001b[2K\u001b[15A\u001b[2K\u001b[13A\u001b[2K\u001b[15A\u001b[2K\u001b[13A\u001b[2K\u001b[15A\u001b[2K\u001b[13A\u001b[2K\u001b[15A\u001b[2K\u001b[10A\u001b[2K\u001b[13A\u001b[2K\u001b[15A\u001b[2K\u001b[13A\u001b[2K\u001b[14A\u001b[2K\u001b[15A\u001b[2K\u001b[13A\u001b[2K\u001b[15A\u001b[2K\u001b[10A\u001b[2K\u001b[13A\u001b[2K\u001b[15A\u001b[2K\u001b[10A\u001b[2K\u001b[13A\u001b[2K\u001b[14A\u001b[2K\u001b[10A\u001b[2K\u001b[15A\u001b[2K\u001b[14A\u001b[2K\u001b[10A\u001b[2K\u001b[15A\u001b[2K\u001b[14A\u001b[2K\u001b[10A\u001b[2K\u001b[13A\u001b[2K\u001b[15A\u001b[2K\u001b[13A\u001b[2K\u001b[14A\u001b[2K\u001b[10A\u001b[2K\u001b[13A\u001b[2K\u001b[15A\u001b[2K\u001b[10A\u001b[2K\u001b[15A\u001b[2K\u001b[14A\u001b[2K\u001b[10A\u001b[2K\u001b[13A\u001b[2K\u001b[14A\u001b[2K\u001b[15A\u001b[2K\u001b[13A\u001b[2K\u001b[15A\u001b[2K\u001b[13A\u001b[2K\u001b[15A\u001b[2K\u001b[11A\u001b[2K\u001b[15A\u001b[2K\u001b[14A\u001b[2K\u001b[15A\u001b[2K\u001b[15A\u001b[2K\u001b[13A\u001b[2K\u001b[10A\u001b[2K\u001b[15A\u001b[2K\u001b[10A\u001b[2K\u001b[15A\u001b[2K\u001b[13A\u001b[2K\u001b[11A\u001b[2K\u001b[15A\u001b[2K\u001b[10A\u001b[2K\u001b[11A\u001b[2K\u001b[13A\u001b[2K\u001b[11A\u001b[2K\u001b[15A\u001b[2K\u001b[10A\u001b[2K\u001b[15A\u001b[2K\u001b[14A\u001b[2K\u001b[10A\u001b[2K\u001b[11A\u001b[2K\u001b[14A\u001b[2K\u001b[15A\u001b[2K\u001b[10A\u001b[2K\u001b[15A\u001b[2K\u001b[10A\u001b[2K\u001b[15A\u001b[2K\u001b[13A\u001b[2K\u001b[15A\u001b[2K\u001b[14A\u001b[2K\u001b[15A\u001b[2K\u001b[14A\u001b[2K\u001b[10A\u001b[2K\u001b[13A\u001b[2K\u001b[14A\u001b[2K\u001b[10A\u001b[2K\u001b[13A\u001b[2K\u001b[11A\u001b[2K\u001b[15A\u001b[2K\u001b[11A\u001b[2K\u001b[13A\u001b[2K\u001b[10A\u001b[2K\u001b[15A\u001b[2K\u001b[14A\u001b[2K\u001b[10A\u001b[2K\u001b[15A\u001b[2K\u001b[14A\u001b[2K\u001b[15A\u001b[2K\u001b[13A\u001b[2K\u001b[14A\u001b[2K\u001b[10A\u001b[2K\u001b[13A\u001b[2K\u001b[14A\u001b[2K\u001b[10A\u001b[2K\u001b[11A\u001b[2K\u001b[15A\u001b[2K\u001b[14A\u001b[2K\u001b[10A\u001b[2K\u001b[13A\u001b[2K\u001b[10A\u001b[2K\u001b[13A\u001b[2K\u001b[15A\u001b[2K\u001b[13A\u001b[2K\u001b[15A\u001b[2K\u001b[10A\u001b[2K\u001b[15A\u001b[2K\u001b[10A\u001b[2K\u001b[15A\u001b[2K\u001b[14A\u001b[2K\u001b[11A\u001b[2K\u001b[13A\u001b[2K\u001b[10A\u001b[2K\u001b[15A\u001b[2K\u001b[10A\u001b[2K\u001b[11A\u001b[2K\u001b[15A\u001b[2K\u001b[13A\u001b[2K\u001b[10A\u001b[2K\u001b[13A\u001b[2K\u001b[15A\u001b[2K\u001b[10A\u001b[2K\u001b[13A\u001b[2K\u001b[15A\u001b[2K\u001b[14A\u001b[2K\u001b[13A\u001b[2K\u001b[15A\u001b[2K\u001b[10A\u001b[2K\u001b[13A\u001b[2K\u001b[14A\u001b[2K\u001b[13A\u001b[2K\u001b[15A\u001b[2K\u001b[13A\u001b[2K\u001b[14A\u001b[2K\u001b[13A\u001b[2K\u001b[10A\u001b[2K\u001b[13A\u001b[2K\u001b[15A\u001b[2K\u001b[10A\u001b[2K\u001b[13A\u001b[2K\u001b[10A\u001b[2K\u001b[15A\u001b[2K\u001b[13A\u001b[2K\u001b[15A\u001b[2K\u001b[13A\u001b[2K\u001b[14A\u001b[2K\u001b[13A\u001b[2K\u001b[15A\u001b[2K\u001b[14A\u001b[2K\u001b[15A\u001b[2K\u001b[10A\u001b[2K\u001b[14A\u001b[2K\u001b[10A\u001b[2K\u001b[14A\u001b[2K\u001b[11A\u001b[2K\u001b[10A\u001b[2K\u001b[14A\u001b[2K\u001b[15A\u001b[2K\u001b[13A\u001b[2K\u001b[14A\u001b[2K\u001b[13A\u001b[2K\u001b[14A\u001b[2K\u001b[10A\u001b[2K\u001b[14A\u001b[2K\u001b[10A\u001b[2K\u001b[10A\u001b[2K\u001b[11A\u001b[2K\u001b[13A\u001b[2K\u001b[14A\u001b[2K\u001b[15A\u001b[2K\u001b[13A\u001b[2K\u001b[14A\u001b[2K\u001b[15A\u001b[2K\u001b[13A\u001b[2K\u001b[14A\u001b[2K\u001b[15A\u001b[2K\u001b[11A\u001b[2K\u001b[14A\u001b[2K\u001b[15A\u001b[2K\u001b[10A\u001b[2K\u001b[10A\u001b[2K\u001b[14A\u001b[2K\u001b[10A\u001b[2K\u001b[11A\u001b[2K\u001b[14A\u001b[2K\u001b[10A\u001b[2K\u001b[11A\u001b[2K\u001b[10A\u001b[2K\u001b[14A\u001b[2K\u001b[10A\u001b[2K\u001b[15A\u001b[2K\u001b[14A\u001b[2K\u001b[13A\u001b[2K\u001b[15A\u001b[2K\u001b[14A\u001b[2K\u001b[15A\u001b[2K\u001b[14A\u001b[2K\u001b[13A\u001b[2K\u001b[14A\u001b[2K\u001b[13A\u001b[2K\u001b[14A\u001b[2K\u001b[13A\u001b[2K\u001b[15A\u001b[2K\u001b[13A\u001b[2K\u001b[15A\u001b[2K\u001b[13A\u001b[2K\u001b[13A\u001b[2K\u001b[11A\u001b[2K\u001b[15A\u001b[2K\u001b[14A\u001b[2K\u001b[13A\u001b[2K\u001b[15A\u001b[2K\u001b[13A\u001b[2K\u001b[15A\u001b[2K\u001b[14A\u001b[2K\u001b[10A\u001b[2K\u001b[15A\u001b[2K\u001b[13A\u001b[2K\u001b[15A\u001b[2K\u001b[13A\u001b[2K\u001b[15A\u001b[2K\u001b[14A\u001b[2K\u001b[13A\u001b[2K\u001b[10A\u001b[2K\u001b[11A\u001b[2K\u001b[15A\u001b[2K\u001b[10A\u001b[2K\u001b[15A\u001b[2K\u001b[14A\u001b[2K\u001b[11A\u001b[2K\u001b[14A\u001b[2K\u001b[15A\u001b[2K\u001b[10A\u001b[2K\u001b[11A\u001b[2K\u001b[13A\u001b[2K\u001b[11A\u001b[2K\u001b[13A\u001b[2K\u001b[14A\u001b[2K\u001b[11A\u001b[2K\u001b[14A\u001b[2K\u001b[13A\u001b[2K\u001b[14A\u001b[2K\u001b[11A\u001b[2K\u001b[14A\u001b[2K\u001b[13A\u001b[2K\u001b[11A\u001b[2K\u001b[15A\u001b[2K\u001b[10A\u001b[2K\u001b[15A\u001b[2K\u001b[10A\u001b[2K\u001b[13A\u001b[2K\u001b[14A\u001b[2K\u001b[10A\u001b[2K\u001b[14A\u001b[2K\u001b[10A\u001b[2K\u001b[15A\u001b[2K\u001b[14A\u001b[2K\u001b[11A\u001b[2K\u001b[15A\u001b[2K\u001b[10A\u001b[2K\u001b[11A\u001b[2K\u001b[15A\u001b[2K\u001b[13A\u001b[2K\u001b[14A\u001b[2K\u001b[15A\u001b[2K\u001b[13A\u001b[2K\u001b[10A\u001b[2K\u001b[11A\u001b[2K\u001b[15A\u001b[2K\u001b[13A\u001b[2K\u001b[11A\u001b[2K\u001b[13A\u001b[2K\u001b[11A\u001b[2K\u001b[15A\u001b[2K\u001b[10A\u001b[2K\u001b[14A\u001b[2K\u001b[10A\u001b[2K\u001b[11A\u001b[2K\u001b[15A\u001b[2K\u001b[11A\u001b[2K\u001b[10A\u001b[2K\u001b[15A\u001b[2K\u001b[15A\u001b[2K\u001b[10A\u001b[2K\u001b[15A\u001b[2K\u001b[11A\u001b[2K\u001b[15A\u001b[2K\u001b[11A\u001b[2K\u001b[10A\u001b[2K\u001b[14A\u001b[2K\u001b[11A\u001b[2K\u001b[15A\u001b[2K\u001b[10A\u001b[2K\u001b[14A\u001b[2K\u001b[11A\u001b[2K\u001b[15A\u001b[2K\u001b[13A\u001b[2K\u001b[14A\u001b[2K\u001b[13A\u001b[2K\u001b[14A\u001b[2K\u001b[11A\u001b[2K\u001b[13A\u001b[2K\u001b[15A\u001b[2K\u001b[10A\u001b[2K\u001b[13A\u001b[2K\u001b[10A\u001b[2K\u001b[11A\u001b[2K\u001b[10A\u001b[2K\u001b[15A\u001b[2K\u001b[14A\u001b[2K\u001b[15A\u001b[2K\u001b[13A\u001b[2K\u001b[14A\u001b[2K\u001b[15A\u001b[2K\u001b[13A\u001b[2K\u001b[15A\u001b[2K\u001b[13A\u001b[2K\u001b[14A\u001b[2K\u001b[15A\u001b[2K\u001b[14A\u001b[2K\u001b[10A\u001b[2K\u001b[13A\u001b[2K\u001b[15A\u001b[2K\u001b[13A\u001b[2K\u001b[15A\u001b[2K\u001b[10A\u001b[2K\u001b[15A\u001b[2K\u001b[14A\u001b[2K\u001b[10A\u001b[2K\u001b[14A\u001b[2K\u001b[13A\u001b[2K\u001b[15A\u001b[2K\u001b[13A\u001b[2K\u001b[14A\u001b[2K\u001b[13A\u001b[2K\u001b[15A\u001b[2K\u001b[10A\u001b[2K\u001b[14A\u001b[2K\u001b[15A\u001b[2K\u001b[14A\u001b[2K\u001b[10A\u001b[2K\u001b[14A\u001b[2K\u001b[15A\u001b[2K\u001b[11A\u001b[2K\u001b[15A\u001b[2K\u001b[10A\u001b[2K\u001b[15A\u001b[2K\u001b[14A\u001b[2K\u001b[10A\u001b[2K\u001b[14A\u001b[2K\u001b[15A\u001b[2K\u001b[13A\u001b[2K\u001b[15A\u001b[2K\u001b[10A\u001b[2K\u001b[14A\u001b[2K\u001b[13A\u001b[2K\u001b[10A\u001b[2K\u001b[13A\u001b[2K\u001b[14A\u001b[2K\u001b[10A\u001b[2K\u001b[13A\u001b[2K\u001b[15A\u001b[2K\u001b[10A\u001b[2K\u001b[14A\u001b[2K\u001b[13A\u001b[2K\u001b[10A\u001b[2K\u001b[13A\u001b[2K\u001b[15A\u001b[2K\u001b[10A\u001b[2K\u001b[13A\u001b[2K\u001b[15A\u001b[2K\u001b[14A\u001b[2K\u001b[10A\u001b[2K\u001b[14A\u001b[2K\u001b[13A\u001b[2K\u001b[14A\u001b[2K\u001b[13A\u001b[2K\u001b[10A\u001b[2K\u001b[13A\u001b[2K\u001b[15A\u001b[2K\u001b[14A\u001b[2K\u001b[10A\u001b[2K\u001b[14A\u001b[2K\u001b[15A\u001b[2K\u001b[13A\u001b[2K\u001b[15A\u001b[2K\u001b[10A\u001b[2K\u001b[13A\u001b[2K\u001b[10A\u001b[2K\u001b[13A\u001b[2K\u001b[10A\u001b[2K\u001b[15A\u001b[2K\u001b[13A\u001b[2K\u001b[14A\u001b[2K\u001b[13A\u001b[2K\u001b[15A\u001b[2K\u001b[10A\u001b[2K\u001b[14A\u001b[2K\u001b[10A\u001b[2K\u001b[14A\u001b[2K\u001b[15A\u001b[2K\u001b[15A\u001b[2K\u001b[10A\u001b[2K\u001b[13A\u001b[2K\u001b[10A\u001b[2K\u001b[13A\u001b[2K\u001b[14A\u001b[2K\u001b[13A\u001b[2K\u001b[14A\u001b[2K\u001b[13A\u001b[2K\u001b[15A\u001b[2K\u001b[10A\u001b[2K\u001b[13A\u001b[2K\u001b[10A\u001b[2K\u001b[13A\u001b[2K\u001b[10A\u001b[2K\u001b[15A\u001b[2K\u001b[10A\u001b[2K\u001b[14A\u001b[2K\u001b[15A\u001b[2K\u001b[13A\u001b[2K\u001b[15A\u001b[2K\u001b[10A\u001b[2K\u001b[15A\u001b[2K\u001b[14A\u001b[2K\u001b[10A\u001b[2K\u001b[13A\u001b[2K\u001b[10A\u001b[2K\u001b[11A\u001b[2K\u001b[15A\u001b[2K\u001b[10A\u001b[2K\u001b[13A\u001b[2K\u001b[15A\u001b[2K\u001b[14A\u001b[2K\u001b[13A\u001b[2K\u001b[14A\u001b[2K\u001b[13A\u001b[2K\u001b[10A\u001b[2K\u001b[15A\u001b[2K\u001b[10A\u001b[2K\u001b[13A\u001b[2K\u001b[14A\u001b[2K\u001b[10A\u001b[2K\u001b[10A\u001b[2K\u001b[14A\u001b[2K\u001b[10A\u001b[2K\u001b[13A\u001b[2K\u001b[10A\u001b[2K\u001b[13A\u001b[2K\u001b[14A\u001b[2K\u001b[13A\u001b[2K\u001b[10A\u001b[2K\u001b[13A\u001b[2K\u001b[14A\u001b[2K\u001b[13A\u001b[2K\u001b[15A\u001b[2K\u001b[10A\u001b[2K\u001b[15A\u001b[2K\u001b[14A\u001b[2K\u001b[15A\u001b[2K\u001b[14A\u001b[2K\u001b[15A\u001b[2K\u001b[14A\u001b[2K\u001b[13A\u001b[2K\u001b[14A\u001b[2K\u001b[10A\u001b[2K\u001b[15A\u001b[2K\u001b[10A\u001b[2K\u001b[15A\u001b[2K\u001b[10A\u001b[2K\u001b[15A\u001b[2K\u001b[10A\u001b[2K\u001b[14A\u001b[2K\u001b[10A\u001b[2K\u001b[14A\u001b[2K\u001b[10A\u001b[2K\u001b[14A\u001b[2K\u001b[13A\u001b[2K\u001b[14A\u001b[2K\u001b[10A\u001b[2K\u001b[15A\u001b[2K\u001b[10A\u001b[2K\u001b[14A\u001b[2K\u001b[13A\u001b[2K\u001b[14A\u001b[2K\u001b[10A\u001b[2K\u001b[15A\u001b[2K\u001b[13A\u001b[2K\u001b[15A\u001b[2K\u001b[10A\u001b[2K\u001b[13A\u001b[2K\u001b[10A\u001b[2K\u001b[13A\u001b[2K\u001b[14A\u001b[2K\u001b[10A\u001b[2K\u001b[14A\u001b[2K\u001b[10A\u001b[2K\u001b[15A\u001b[2K\u001b[10A\u001b[2K\u001b[14A\u001b[2K\u001b[10A\u001b[2K\u001b[14A\u001b[2K\u001b[10A\u001b[2K\u001b[15A\u001b[2K\u001b[14A\u001b[2K\u001b[10A\u001b[2K\u001b[14A\u001b[2K\u001b[14A\u001b[2K\u001b[10A\u001b[2K\u001b[15A\u001b[2K\u001b[10A\u001b[2K\u001b[15A\u001b[2K\u001b[9A\u001b[2K\u001b[14A\u001b[2K\u001b[10A\u001b[2K\u001b[13A\u001b[2K\u001b[9A\u001b[2K\u001b[10A\u001b[2K\u001b[14A\u001b[2K\u001b[10A\u001b[2K\u001b[9A\u001b[2K\u001b[10A\u001b[2K\u001b[9A\u001b[2K\u001b[10A\u001b[2K\u001b[9A\u001b[2K\u001b[14A\u001b[2K\u001b[13A\u001b[2K\u001b[14A\u001b[2K\u001b[10A\u001b[2K\u001b[10A\u001b[2K\u001b[10A\u001b[2K\u001b[9A\u001b[2K\u001b[10A\u001b[2K\u001b[14A\u001b[2K\u001b[10A\u001b[2K\u001b[9A\u001b[2K\u001b[10A\u001b[2K\u001b[9A\u001b[2K\u001b[10A\u001b[2K\u001b[9A\u001b[2K\u001b[15A\u001b[2K\u001b[10A\u001b[2K\u001b[9A\u001b[2K\u001b[13A\u001b[2K\u001b[15A\u001b[2K\u001b[10A\u001b[2K\u001b[15A\u001b[2K\u001b[14A\u001b[2K\u001b[13A\u001b[2K\u001b[15A\u001b[2K\u001b[10A\u001b[2K\u001b[15A\u001b[2K\u001b[10A\u001b[2K\u001b[15A\u001b[2K\u001b[13A\u001b[2K\u001b[10A\u001b[2K\u001b[13A\u001b[2K\u001b[10A\u001b[2K\u001b[10A\u001b[2K\u001b[14A\u001b[2K\u001b[10A\u001b[2K\u001b[14A\u001b[2K\u001b[10A\u001b[2K\u001b[15A\u001b[2K\u001b[10A\u001b[2K\u001b[15A\u001b[2K\u001b[13A\u001b[2K\u001b[15A\u001b[2K\u001b[9A\u001b[2K\u001b[15A\u001b[2K\u001b[10A\u001b[2K\u001b[15A\u001b[2K\u001b[13A\u001b[2K\u001b[15A\u001b[2K\u001b[13A\u001b[2K\u001b[15A\u001b[2K\u001b[13A\u001b[2K\u001b[14A\u001b[2K\u001b[10A\u001b[2K\u001b[15A\u001b[2K\u001b[10A\u001b[2K\u001b[13A\u001b[2K\u001b[9A\u001b[2K\u001b[13A\u001b[2K\u001b[10A\u001b[2K\u001b[15A\u001b[2K\u001b[14A\u001b[2K\u001b[10A\u001b[2K\u001b[14A\u001b[2K\u001b[10A\u001b[2K\u001b[13A\u001b[2K\u001b[10A\u001b[2K\u001b[15A\u001b[2K\u001b[14A\u001b[2K\u001b[10A\u001b[2K\u001b[14A\u001b[2K\u001b[10A\u001b[2K\u001b[13A\u001b[2K\u001b[14A\u001b[2K\u001b[15A\u001b[2K\u001b[13A\u001b[2K\u001b[14A\u001b[2K\u001b[10A\u001b[2K\u001b[13A\u001b[2K\u001b[10A\u001b[2K\u001b[14A\u001b[2K\u001b[15A\u001b[2K\u001b[13A\u001b[2K\u001b[14A\u001b[2K\u001b[15A\u001b[2K\u001b[14A\u001b[2K\u001b[15A\u001b[2K\u001b[10A\u001b[2K\u001b[15A\u001b[2K\u001b[10A\u001b[2K\u001b[14A\u001b[2K\u001b[9A\u001b[2K\u001b[14A\u001b[2K\u001b[10A\u001b[2K\u001b[13A\u001b[2K\u001b[15A\u001b[2K\u001b[10A\u001b[2K\u001b[15A\u001b[2K\u001b[13A\u001b[2K\u001b[15A\u001b[2K\u001b[14A\u001b[2K\u001b[15A\u001b[2K\u001b[14A\u001b[2K\u001b[13A\u001b[2K\u001b[14A\u001b[2K\u001b[15A\u001b[2K\u001b[9A\u001b[2K\u001b[14A\u001b[2K\u001b[15A\u001b[2K\u001b[14A\u001b[2K\u001b[9A\u001b[2K\u001b[10A\u001b[2K\u001b[15A\u001b[2K\u001b[10A\u001b[2K\u001b[15A\u001b[2K\u001b[14A\u001b[2K\u001b[14A\u001b[2K\u001b[9A\u001b[2K\u001b[14A\u001b[2K\u001b[10A\u001b[2K\u001b[14A\u001b[2K\u001b[9A\u001b[2K\u001b[10A\u001b[2K\u001b[14A\u001b[2K\u001b[10A\u001b[2K\u001b[15A\u001b[2K\u001b[10A\u001b[2K\u001b[14A\u001b[2K\u001b[15A\u001b[2K\u001b[10A\u001b[2K\u001b[9A\u001b[2K\u001b[10A\u001b[2K\u001b[14A\u001b[2K\u001b[10A\u001b[2K\u001b[14A\u001b[2K\u001b[15A\u001b[2K\u001b[14A\u001b[2K\u001b[15A\u001b[2K\u001b[14A\u001b[2K\u001b[9A\u001b[2K\u001b[14A\u001b[2K\u001b[13A\u001b[2K\u001b[15A\u001b[2K\u001b[14A\u001b[2K\u001b[14A\u001b[2K\u001b[9A\u001b[2K\u001b[14A\u001b[2K\u001b[15A\u001b[2K\u001b[13A\u001b[2K\u001b[15A\u001b[2K\u001b[10A\u001b[2K\u001b[15A\u001b[2K\u001b[10A\u001b[2K\u001b[14A\u001b[2K\u001b[10A\u001b[2K\u001b[14A\u001b[2K\u001b[10A\u001b[2K\u001b[14A\u001b[2K\u001b[15A\u001b[2K\u001b[14A\u001b[2K\u001b[13A\u001b[2K\u001b[10A\u001b[2K\u001b[15A\u001b[2K\u001b[10A\u001b[2K\u001b[14A\u001b[2K\u001b[10A\u001b[2K\u001b[14A\u001b[2K\u001b[10A\u001b[2K\u001b[14A\u001b[2K\u001b[10A\u001b[2K\u001b[13A\u001b[2K\u001b[10A\u001b[2K\u001b[14A\u001b[2K\u001b[13A\u001b[2K\u001b[9A\u001b[2K\u001b[14A\u001b[2K\u001b[10A\u001b[2K\u001b[14A\u001b[2K\u001b[15A\u001b[2K\u001b[15A\u001b[2K\u001b[10A\u001b[2K\u001b[15A\u001b[2K\u001b[13A\u001b[2K\u001b[15A\u001b[2K\u001b[10A\u001b[2K\u001b[15A\u001b[2K\u001b[10A\u001b[2K\u001b[15A\u001b[2K\u001b[10A\u001b[2K\u001b[15A\u001b[2K\u001b[10A\u001b[2K\u001b[15A\u001b[2K\u001b[15A\u001b[2K\u001b[14A\u001b[2K\u001b[10A\u001b[2K\u001b[14A\u001b[2K\u001b[10A\u001b[2K\u001b[13A\u001b[2K\u001b[10A\u001b[2K\u001b[15A\u001b[2K\u001b[14A\u001b[2K\u001b[15A\u001b[2K\u001b[14A\u001b[2K\u001b[13A\u001b[2K\u001b[14A\u001b[2K\u001b[15A\u001b[2K\u001b[10A\u001b[2K\u001b[15A\u001b[2K\u001b[14A\u001b[2K\u001b[10A\u001b[2K\u001b[13A\u001b[2K\u001b[10A\u001b[2K\u001b[15A\u001b[2K\u001b[10A\u001b[2K\u001b[15A\u001b[2K\u001b[15A\u001b[2K\u001b[10A\u001b[2K\u001b[9A\u001b[2K\u001b[10A\u001b[2K\u001b[14A\u001b[2K\u001b[10A\u001b[2K\u001b[14A\u001b[2K\u001b[10A\u001b[2K\u001b[14A\u001b[2K\u001b[10A\u001b[2K\u001b[14A\u001b[2K\u001b[10A\u001b[2K\u001b[15A\u001b[2K\u001b[10A\u001b[2K\u001b[15A\u001b[2K\u001b[10A\u001b[2K\u001b[15A\u001b[2K\u001b[14A\u001b[2K\u001b[10A\u001b[2K\u001b[14A\u001b[2K\u001b[10A\u001b[2K\u001b[14A\u001b[2K\u001b[10A\u001b[2K\u001b[14A\u001b[2K\u001b[15A\u001b[2K\u001b[9A\u001b[2K\u001b[15A\u001b[2K\u001b[13A\u001b[2K\u001b[15A\u001b[2K\u001b[14A\u001b[2K\u001b[10A\u001b[2K\u001b[14A\u001b[2K\u001b[15A\u001b[2K\u001b[10A\u001b[2K\u001b[9A\u001b[2K\u001b[15A\u001b[2K\u001b[15A\u001b[2K\u001b[14A\u001b[2K\u001b[10A\u001b[2K\u001b[15A\u001b[2K\u001b[14A\u001b[2K\u001b[10A\u001b[2K\u001b[15A\u001b[2K\u001b[13A\u001b[2K\u001b[15A\u001b[2K\u001b[10A\u001b[2K\u001b[15A\u001b[2K\u001b[10A\u001b[2K\u001b[15A\u001b[2K\u001b[14A\u001b[2K\u001b[10A\u001b[2K\u001b[15A\u001b[2K\u001b[9A\u001b[2K\u001b[10A\u001b[2K\u001b[14A\u001b[2K\u001b[15A\u001b[2K\u001b[10A\u001b[2K\u001b[9A\u001b[2K\u001b[15A\u001b[2K\u001b[10A\u001b[2K\u001b[15A\u001b[2K\u001b[9A\u001b[2K\u001b[14A\u001b[2K\u001b[9A\u001b[2K\u001b[14A\u001b[2K\u001b[15A\u001b[2K\u001b[9A\u001b[2K\u001b[15A\u001b[2K\u001b[9A\u001b[2K\u001b[15A\u001b[2K\u001b[9A\u001b[2K\u001b[15A\u001b[2K\u001b[14A\u001b[2K\u001b[9A\u001b[2K\u001b[10A\u001b[2K\u001b[15A\u001b[2K\u001b[10A\u001b[2K\u001b[9A\u001b[2K\u001b[10A\u001b[2K\u001b[15A\u001b[2K\u001b[15A\u001b[2K\u001b[14A\u001b[2K\u001b[15A\u001b[2K\u001b[14A\u001b[2K\u001b[9A\u001b[2K\u001b[14A\u001b[2K\u001b[15A\u001b[2K\u001b[10A\u001b[2K\u001b[15A\u001b[2K\u001b[14A\u001b[2K\u001b[15A\u001b[2K\u001b[14A\u001b[2K\u001b[9A\u001b[2K\u001b[10A\u001b[2K\u001b[13A\u001b[2K\u001b[14A\u001b[2K\u001b[14A\u001b[2K\u001b[10A\u001b[2K\u001b[14A\u001b[2K\u001b[9A\u001b[2K\u001b[15A\u001b[2K\u001b[14A\u001b[2K\u001b[15A\u001b[2K\u001b[10A\u001b[2K\u001b[15A\u001b[2K\u001b[10A\u001b[2K\u001b[15A\u001b[2K\u001b[10A\u001b[2K\u001b[14A\u001b[2K\u001b[10A\u001b[2K\u001b[15A\u001b[2K\u001b[10A\u001b[2K\u001b[14A\u001b[2K\u001b[10A\u001b[2K\u001b[14A\u001b[2K\u001b[9A\u001b[2K\u001b[10A\u001b[2K\u001b[14A\u001b[2K\u001b[15A\u001b[2K\u001b[10A\u001b[2K\u001b[9A\u001b[2K\u001b[9A\u001b[2K\u001b[15A\u001b[2K\u001b[9A\u001b[2K\u001b[14A\u001b[2K\u001b[10A\u001b[2K\u001b[15A\u001b[2K\u001b[10A\u001b[2K\u001b[14A\u001b[2K\u001b[9A\u001b[2K\u001b[15A\u001b[2K\u001b[10A\u001b[2K\u001b[15A\u001b[2K\u001b[10A\u001b[2K\u001b[15A\u001b[2K\u001b[10A\u001b[2K\u001b[9A\u001b[2K\u001b[15A\u001b[2K\u001b[14A\u001b[2K\u001b[15A\u001b[2K\u001b[15A\u001b[2K\u001b[13A\u001b[2K\u001b[15A\u001b[2K\u001b[14A\u001b[2K\u001b[15A\u001b[2K\u001b[9A\u001b[2K\u001b[15A\u001b[2K\u001b[9A\u001b[2K\u001b[14A\u001b[2K\u001b[10A\u001b[2K\u001b[14A\u001b[2K\u001b[15A\u001b[2K\u001b[14A\u001b[2K\u001b[15A\u001b[2K\u001b[10A\u001b[2K\u001b[15A\u001b[2K\u001b[14A\u001b[2K\u001b[15A\u001b[2K\u001b[13A\u001b[2K\u001b[10A\u001b[2K\u001b[15A\u001b[2K\u001b[9A\u001b[2K\u001b[15A\u001b[2K\u001b[14A\u001b[2K\u001b[9A\u001b[2K\u001b[15A\u001b[2K\u001b[9A\u001b[2K\u001b[15A\u001b[2K\u001b[10A\u001b[2K\u001b[15A\u001b[2K\u001b[10A\u001b[2K\u001b[15A\u001b[2K\u001b[9A\u001b[2K\u001b[10A\u001b[2K\u001b[15A\u001b[2K\u001b[9A\u001b[2K\u001b[15A\u001b[2K\u001b[14A\u001b[2K\u001b[10A\u001b[2K\u001b[15A\u001b[2K\u001b[10A\u001b[2K\u001b[9A\u001b[2K\u001b[13A\u001b[2K\u001b[14A\u001b[2K\u001b[9A\u001b[2K\u001b[15A\u001b[2K\u001b[9A\u001b[2K\u001b[10A\u001b[2K\u001b[9A\u001b[2K\u001b[10A\u001b[2K\u001b[15A\u001b[2K\u001b[10A\u001b[2K\u001b[14A\u001b[2K\u001b[10A\u001b[2K\u001b[14A\u001b[2K\u001b[10A\u001b[2K\u001b[15A\u001b[2K\u001b[9A\u001b[2K\u001b[15A\u001b[2K\u001b[9A\u001b[2K\u001b[10A\u001b[2K\u001b[15A\u001b[2K\u001b[14A\u001b[2K\u001b[15A\u001b[2K\u001b[14A\u001b[2K\u001b[15A\u001b[2K\u001b[9A\u001b[2K\u001b[15A\u001b[2K\u001b[14A\u001b[2K\u001b[9A\u001b[2K\u001b[15A\u001b[2K\u001b[14A\u001b[2K\u001b[15A\u001b[2K\u001b[9A\u001b[2K\u001b[14A\u001b[2K\u001b[13A\u001b[2K\u001b[9A\u001b[2K\u001b[15A\u001b[2K\u001b[14A\u001b[2K\u001b[15A\u001b[2K\u001b[9A\u001b[2K\u001b[15A\u001b[2K\u001b[9A\u001b[2K\u001b[15A\u001b[2K\u001b[15A\u001b[2K\u001b[14A\u001b[2K\u001b[9A\u001b[2K\u001b[14A\u001b[2K\u001b[15A\u001b[2K\u001b[9A\u001b[2K\u001b[15A\u001b[2K\u001b[9A\u001b[2K\u001b[15A\u001b[2K\u001b[9A\u001b[2K\u001b[14A\u001b[2K\u001b[9A\u001b[2K\u001b[14A\u001b[2K\u001b[15A\u001b[2K\u001b[9A\u001b[2K\u001b[13A\u001b[2K\u001b[14A\u001b[2K\u001b[15A\u001b[2K\u001b[9A\u001b[2K\u001b[14A\u001b[2K\u001b[9A\u001b[2K\u001b[15A\u001b[2K\u001b[13A\u001b[2K\u001b[15A\u001b[2K\u001b[14A\u001b[2K\u001b[10A\u001b[2K\u001b[13A\u001b[2K\u001b[9A\u001b[2K\u001b[15A\u001b[2K\u001b[14A\u001b[2K\u001b[13A\u001b[2K\u001b[15A\u001b[2K\u001b[13A\u001b[2K\u001b[9A\u001b[2K\u001b[14A\u001b[2K\u001b[15A\u001b[2K\u001b[14A\u001b[2K\u001b[15A\u001b[2K\u001b[14A\u001b[2K\u001b[15A\u001b[2K\u001b[14A\u001b[2K\u001b[13A\u001b[2K\u001b[14A\u001b[2K\u001b[9A\u001b[2K\u001b[14A\u001b[2K\u001b[15A\u001b[2K\u001b[14A\u001b[2K\u001b[9A\u001b[2K\u001b[15A\u001b[2K\u001b[14A\u001b[2K\u001b[13A\u001b[2K\u001b[15A\u001b[2K\u001b[9A\u001b[2K\u001b[13A\u001b[2K\u001b[15A\u001b[2K\u001b[14A\u001b[2K\u001b[15A\u001b[2K\u001b[13A\u001b[2K\u001b[15A\u001b[2K\u001b[14A\u001b[2K\u001b[8A\u001b[2K\u001b[14A\u001b[2K\u001b[8A\u001b[2K\u001b[8A\u001b[2K\u001b[8A\u001b[2K\u001b[14A\u001b[2K\u001b[15A\u001b[2K\u001b[13A\u001b[2K\u001b[8A\u001b[2K\u001b[14A\u001b[2K\u001b[8A\u001b[2K\u001b[14A\u001b[2K\u001b[8A\u001b[2K\u001b[15A\u001b[2K\u001b[8A\u001b[2K\u001b[15A\u001b[2K\u001b[13A\u001b[2K\u001b[15A\u001b[2K\u001b[13A\u001b[2K\u001b[9A\u001b[2K\u001b[8A\u001b[2K\u001b[15A\u001b[2K\u001b[13A\u001b[2K\u001b[9A\u001b[2K\u001b[13A\u001b[2K\u001b[15A\u001b[2K\u001b[9A\u001b[2K\u001b[14A\u001b[2K\u001b[9A\u001b[2K\u001b[8A\u001b[2K\u001b[14A\u001b[2K\u001b[9A\u001b[2K\u001b[14A\u001b[2K\u001b[9A\u001b[2K\u001b[8A\u001b[2K\u001b[9A\u001b[2K\u001b[15A\u001b[2K\u001b[8A\u001b[2K\u001b[15A\u001b[2K\u001b[8A\u001b[2K\u001b[15A\u001b[2K\u001b[9A\u001b[2K\u001b[15A\u001b[2K\u001b[9A\u001b[2K\u001b[8A\u001b[2K\u001b[13A\u001b[2K\u001b[9A\u001b[2K\u001b[8A\u001b[2K\u001b[14A\u001b[2K\u001b[9A\u001b[2K\u001b[8A\u001b[2K\u001b[8A\u001b[2K\u001b[14A\u001b[2K\u001b[8A\u001b[2K\u001b[15A\u001b[2K\u001b[9A\u001b[2K\u001b[8A\u001b[2K\u001b[13A\u001b[2K\u001b[9A\u001b[2K\u001b[8A\u001b[2K\u001b[9A\u001b[2K\u001b[14A\u001b[2K\u001b[15A\u001b[2K\u001b[9A\u001b[2K\u001b[8A\u001b[2K\u001b[9A\u001b[2K\u001b[14A\u001b[2K\u001b[8A\u001b[2K\u001b[13A\u001b[2K\u001b[14A\u001b[2K\u001b[8A\u001b[2K\u001b[9A\u001b[2K\u001b[15A\u001b[2K\u001b[9A\u001b[2K\u001b[8A\u001b[2K\u001b[9A\u001b[2K\u001b[14A\u001b[2K\u001b[13A\u001b[2K\u001b[14A\u001b[2K\u001b[15A\u001b[2K\u001b[8A\u001b[2K\u001b[8A\u001b[2K\u001b[14A\u001b[2K\u001b[8A\u001b[2K\u001b[15A\u001b[2K\u001b[8A\u001b[2K\u001b[9A\u001b[2K\u001b[9A\u001b[2K\u001b[8A\u001b[2K\u001b[8A\u001b[2K\u001b[14A\u001b[2K\u001b[9A\u001b[2K\u001b[8A\u001b[2K\u001b[13A\u001b[2K\u001b[9A\u001b[2K\u001b[14A\u001b[2K\u001b[9A\u001b[2K\u001b[8A\u001b[2K\u001b[15A\u001b[2K\u001b[13A\u001b[2K\u001b[15A\u001b[2K\u001b[9A\u001b[2K\u001b[8A\u001b[2K\u001b[13A\u001b[2K\u001b[8A\u001b[2K\u001b[15A\u001b[2K\u001b[13A\u001b[2K\u001b[15A\u001b[2K\u001b[9A\u001b[2K\u001b[8A\u001b[2K\u001b[14A\u001b[2K\u001b[13A\u001b[2K\u001b[9A\u001b[2K\u001b[8A\u001b[2K\u001b[15A\u001b[2K\u001b[9A\u001b[2K\u001b[8A\u001b[2K\u001b[15A\u001b[2K\u001b[8A\u001b[2K\u001b[14A\u001b[2K\u001b[8A\u001b[2K\u001b[15A\u001b[2K\u001b[14A\u001b[2K\u001b[15A\u001b[2K\u001b[14A\u001b[2K\u001b[8A\u001b[2K\u001b[15A\u001b[2K\u001b[9A\u001b[2K\u001b[15A\u001b[2K\u001b[13A\u001b[2K\u001b[8A\u001b[2K\u001b[15A\u001b[2K\u001b[14A\u001b[2K\u001b[9A\u001b[2K\u001b[8A\u001b[2K\u001b[15A\u001b[2K\u001b[9A\u001b[2K\u001b[8A\u001b[2K\u001b[15A\u001b[2K\u001b[8A\u001b[2K\u001b[14A\u001b[2K\u001b[15A\u001b[2K\u001b[14A\u001b[2K\u001b[9A\u001b[2K\u001b[8A\u001b[2K\u001b[9A\u001b[2K\u001b[15A\u001b[2K\u001b[9A\u001b[2K\u001b[13A\u001b[2K\u001b[15A\u001b[2K\u001b[9A\u001b[2K\u001b[15A\u001b[2K\u001b[8A\u001b[2K\u001b[14A\u001b[2K\u001b[8A\u001b[2K\u001b[9A\u001b[2K\u001b[13A\u001b[2K\u001b[9A\u001b[2K\u001b[15A\u001b[2K\u001b[9A\u001b[2K\u001b[15A\u001b[2K\u001b[8A\u001b[2K\u001b[15A\u001b[2K\u001b[8A\u001b[2K\u001b[14A\u001b[2K\u001b[9A\u001b[2K\u001b[9A\u001b[2K\u001b[8A\u001b[2K\u001b[9A\u001b[2K\u001b[15A\u001b[2K\u001b[9A\u001b[2K\u001b[8A\u001b[2K\u001b[14A\u001b[2K\u001b[15A\u001b[2K\u001b[9A\u001b[2K\u001b[15A\u001b[2K\u001b[9A\u001b[2K\u001b[8A\u001b[2K\u001b[15A\u001b[2K\u001b[9A\u001b[2K\u001b[8A\u001b[2K\u001b[9A\u001b[2K\u001b[13A\u001b[2K\u001b[15A\u001b[2K\u001b[15A\u001b[2K\u001b[9A\u001b[2K\u001b[15A\u001b[2K\u001b[9A\u001b[2K\u001b[15A\u001b[2K\u001b[9A\u001b[2K\u001b[15A\u001b[2K\u001b[13A\u001b[2K\u001b[15A\u001b[2K\u001b[14A\u001b[2K\u001b[9A\u001b[2K\u001b[8A\u001b[2K\u001b[9A\u001b[2K\u001b[9A\u001b[2K\u001b[9A\u001b[2K\u001b[15A\u001b[2K\u001b[15A\u001b[2K\u001b[9A\u001b[2K\u001b[15A\u001b[2K\u001b[9A\u001b[2K\u001b[15A\u001b[2K\u001b[9A\u001b[2K\u001b[15A\u001b[2K\u001b[9A\u001b[2K\u001b[15A\u001b[2K\u001b[9A\u001b[2K\u001b[15A\u001b[2K\u001b[9A\u001b[2K\u001b[15A\u001b[2K\u001b[9A\u001b[2K\u001b[15A\u001b[2K\u001b[13A\u001b[2K\u001b[14A\u001b[2K\u001b[9A\u001b[2K\u001b[8A\u001b[2K\u001b[9A\u001b[2K\u001b[8A\u001b[2K\u001b[9A\u001b[2K\u001b[14A\u001b[2K\u001b[8A\u001b[2K\u001b[14A\u001b[2K\u001b[8A\u001b[2K\u001b[8A\u001b[2K\u001b[14A\u001b[2K\u001b[9A\u001b[2K\u001b[8A\u001b[2K\u001b[9A\u001b[2K\u001b[14A\u001b[2K\u001b[9A\u001b[2K\u001b[14A\u001b[2K\u001b[13A\u001b[2K\u001b[8A\u001b[2K\u001b[14A\u001b[2K\u001b[9A\u001b[2K\u001b[14A\u001b[2K\u001b[9A\u001b[2K\u001b[8A\u001b[2K\u001b[14A\u001b[2K\u001b[8A\u001b[2K\u001b[14A\u001b[2K\u001b[8A\u001b[2K\u001b[9A\u001b[2K\u001b[8A\u001b[2K\u001b[9A\u001b[2K\u001b[8A\u001b[2K\u001b[9A\u001b[2K\u001b[8A\u001b[2K\u001b[9A\u001b[2K\u001b[14A\u001b[2K\u001b[8A\u001b[2K\u001b[9A\u001b[2K\u001b[8A\u001b[2K\u001b[9A\u001b[2K\u001b[15A\u001b[2K\u001b[14A\u001b[2K\u001b[9A\u001b[2K\u001b[13A\u001b[2K\u001b[8A\u001b[2K\u001b[14A\u001b[2K\u001b[15A\u001b[2K\u001b[8A\u001b[2K\u001b[9A\u001b[2K\u001b[8A\u001b[2K\u001b[14A\u001b[2K\u001b[13A\u001b[2K\u001b[8A\u001b[2K\u001b[9A\u001b[2K\u001b[13A\u001b[2K\u001b[8A\u001b[2K\u001b[9A\u001b[2K\u001b[8A\u001b[2K\u001b[8A\u001b[2K\u001b[15A\u001b[2K\u001b[13A\u001b[2K\u001b[8A\u001b[2K\u001b[15A\u001b[2K\u001b[8A\u001b[2K\u001b[13A\u001b[2K\u001b[9A\u001b[2K\u001b[13A\u001b[2K\u001b[8A\u001b[2K\u001b[9A\u001b[2K\u001b[14A\u001b[2K\u001b[8A\u001b[2K\u001b[9A\u001b[2K\u001b[9A\u001b[2K\u001b[14A\u001b[2K\u001b[15A\u001b[2K\u001b[8A\u001b[2K\u001b[14A\u001b[2K\u001b[9A\u001b[2K\u001b[14A\u001b[2K\u001b[9A\u001b[2K\u001b[8A\u001b[2K\u001b[9A\u001b[2K\u001b[8A\u001b[2K\u001b[15A\u001b[2K\u001b[8A\u001b[2K\u001b[14A\u001b[2K\u001b[8A\u001b[2K\u001b[13A\u001b[2K\u001b[14A\u001b[2K\u001b[8A\u001b[2K\u001b[13A\u001b[2K\u001b[8A\u001b[2K\u001b[9A\u001b[2K\u001b[15A\u001b[2K\u001b[9A\u001b[2K\u001b[13A\u001b[2K\u001b[9A\u001b[2K\u001b[15A\u001b[2K\u001b[13A\u001b[2K\u001b[9A\u001b[2K\u001b[15A\u001b[2K\u001b[8A\u001b[2K\u001b[13A\u001b[2K\u001b[9A\u001b[2K\u001b[15A\u001b[2K\u001b[9A\u001b[2K\u001b[15A\u001b[2K\u001b[8A\u001b[2K\u001b[14A\u001b[2K\u001b[13A\u001b[2K\u001b[15A\u001b[2K\u001b[13A\u001b[2K\u001b[9A\u001b[2K\u001b[14A\u001b[2K\u001b[15A\u001b[2K\u001b[8A\u001b[2K\u001b[9A\u001b[2K\u001b[9A\u001b[2K\u001b[15A\u001b[2K\u001b[9A\u001b[2K\u001b[8A\u001b[2K\u001b[15A\u001b[2K\u001b[14A\u001b[2K\u001b[8A\u001b[2K\u001b[15A\u001b[2K\u001b[8A\u001b[2K\u001b[15A\u001b[2K\u001b[9A\u001b[2K\u001b[8A\u001b[2K\u001b[15A\u001b[2K\u001b[9A\u001b[2K\u001b[8A\u001b[2K\u001b[14A\u001b[2K\u001b[9A\u001b[2K\u001b[15A\u001b[2K\u001b[14A\u001b[2K\u001b[8A\u001b[2K\u001b[14A\u001b[2K\u001b[9A\u001b[2K\u001b[14A\u001b[2K\u001b[8A\u001b[2K\u001b[9A\u001b[2K\u001b[8A\u001b[2K\u001b[9A\u001b[2K\u001b[9A\u001b[2K\u001b[13A\u001b[2K\u001b[15A\u001b[2K\u001b[8A\u001b[2K\u001b[14A\u001b[2K\u001b[8A\u001b[2K\u001b[9A\u001b[2K\u001b[8A\u001b[2K\u001b[13A\u001b[2K\u001b[14A\u001b[2K\u001b[8A\u001b[2K\u001b[9A\u001b[2K\u001b[8A\u001b[2K\u001b[15A\u001b[2K\u001b[9A\u001b[2K\u001b[8A\u001b[2K\u001b[13A\u001b[2K\u001b[14A\u001b[2K\u001b[9A\u001b[2K\u001b[14A\u001b[2K\u001b[13A\u001b[2K\u001b[8A\u001b[2K\u001b[15A\u001b[2K\u001b[13A\u001b[2K\u001b[8A\u001b[2K\u001b[15A\u001b[2K\u001b[14A\u001b[2K\u001b[13A\u001b[2K\u001b[14A\u001b[2K\u001b[13A\u001b[2K\u001b[8A\u001b[2K\u001b[15A\u001b[2K\u001b[13A\u001b[2K\u001b[9A\u001b[2K\u001b[13A\u001b[2K\u001b[14A\u001b[2K\u001b[9A\u001b[2K\u001b[13A\u001b[2K\u001b[9A\u001b[2K\u001b[8A\u001b[2K\u001b[9A\u001b[2K\u001b[8A\u001b[2K\u001b[9A\u001b[2K\u001b[13A\u001b[2K\u001b[9A\u001b[2K\u001b[8A\u001b[2K\u001b[14A\u001b[2K\u001b[9A\u001b[2K\u001b[8A\u001b[2K\u001b[14A\u001b[2K\u001b[13A\u001b[2K\u001b[8A\u001b[2K\u001b[9A\u001b[2K\u001b[8A\u001b[2K\u001b[9A\u001b[2K\u001b[8A\u001b[2K\u001b[14A\u001b[2K\u001b[9A\u001b[2K\u001b[14A\u001b[2K\u001b[9A\u001b[2K\u001b[14A\u001b[2K\u001b[9A\u001b[2K\u001b[8A\u001b[2K\u001b[9A\u001b[2K\u001b[13A\u001b[2K\u001b[9A\u001b[2K\u001b[8A\u001b[2K\u001b[13A\u001b[2K\u001b[8A\u001b[2K\u001b[14A\u001b[2K\u001b[9A\u001b[2K\u001b[14A\u001b[2K\u001b[9A\u001b[2K\u001b[8A\u001b[2K\u001b[14A\u001b[2K\u001b[13A\u001b[2K\u001b[9A\u001b[2K\u001b[13A\u001b[2K\u001b[8A\u001b[2K\u001b[13A\u001b[2K\u001b[9A\u001b[2K\u001b[8A\u001b[2K\u001b[9A\u001b[2K\u001b[15A\u001b[2K\u001b[14A\u001b[2K\u001b[8A\u001b[2K\u001b[13A\u001b[2K\u001b[14A\u001b[2K\u001b[9A\u001b[2K\u001b[15A\u001b[2K\u001b[14A\u001b[2K\u001b[8A\u001b[2K\u001b[9A\u001b[2K\u001b[8A\u001b[2K\u001b[8A\u001b[2K\u001b[15A\u001b[2K\u001b[9A\u001b[2K\u001b[15A\u001b[2K\u001b[9A\u001b[2K\u001b[9A\u001b[2K\u001b[8A\u001b[2K\u001b[9A\u001b[2K\u001b[8A\u001b[2K\u001b[15A\u001b[2K\u001b[13A\u001b[2K\u001b[8A\u001b[2K\u001b[15A\u001b[2K\u001b[8A\u001b[2K\u001b[9A\u001b[2K\u001b[14A\u001b[2K\u001b[8A\u001b[2K\u001b[14A\u001b[2K\u001b[8A\u001b[2K\u001b[15A\u001b[2K\u001b[13A\u001b[2K\u001b[8A\u001b[2K\u001b[15A\u001b[2K\u001b[9A\u001b[2K\u001b[14A\u001b[2K\u001b[13A\u001b[2K\u001b[8A\u001b[2K\u001b[14A\u001b[2K\u001b[13A\u001b[2K\u001b[8A\u001b[2K\u001b[13A\u001b[2K\u001b[14A\u001b[2K\u001b[15A\u001b[2K\u001b[14A\u001b[2K\u001b[8A\u001b[2K\u001b[14A\u001b[2K\u001b[13A\u001b[2K\u001b[9A\u001b[2K\u001b[9A\u001b[2K\u001b[13A\u001b[2K\u001b[15A\u001b[2K\u001b[9A\u001b[2K\u001b[8A\u001b[2K\u001b[14A\u001b[2K\u001b[13A\u001b[2K\u001b[9A\u001b[2K\u001b[14A\u001b[2K\u001b[8A\u001b[2K\u001b[9A\u001b[2K\u001b[13A\u001b[2K\u001b[8A\u001b[2K\u001b[9A\u001b[2K\u001b[8A\u001b[2K\u001b[15A\u001b[2K\u001b[13A\u001b[2K\u001b[8A\u001b[2K\u001b[9A\u001b[2K\u001b[8A\u001b[2K\u001b[9A\u001b[2K\u001b[13A\u001b[2K\u001b[8A\u001b[2K\u001b[13A\u001b[2K\u001b[8A\u001b[2K\u001b[14A\u001b[2K\u001b[9A\u001b[2K\u001b[9A\u001b[2K\u001b[8A\u001b[2K\u001b[14A\u001b[2K\u001b[15A\u001b[2K\u001b[9A\u001b[2K\u001b[15A\u001b[2K\u001b[9A\u001b[2K\u001b[13A\u001b[2K\u001b[8A\u001b[2K\u001b[13A\u001b[2K\u001b[9A\u001b[2K\u001b[15A\u001b[2K\u001b[9A\u001b[2K\u001b[15A\u001b[2K\u001b[9A\u001b[2K\u001b[15A\u001b[2K\u001b[8A\u001b[2K\u001b[9A\u001b[2K\u001b[15A\u001b[2K\u001b[8A\u001b[2K\u001b[13A\u001b[2K\u001b[9A\u001b[2K\u001b[15A\u001b[2K\u001b[9A\u001b[2K\u001b[8A\u001b[2K\u001b[13A\u001b[2K\u001b[9A\u001b[2K\u001b[14A\u001b[2K\u001b[15A\u001b[2K\u001b[8A\u001b[2K\u001b[15A\u001b[2K\u001b[8A\u001b[2K\u001b[9A\u001b[2K\u001b[15A\u001b[2K\u001b[9A\u001b[2K\u001b[14A\u001b[2K\u001b[9A\u001b[2K\u001b[8A\u001b[2K\u001b[15A\u001b[2K\u001b[13A\u001b[2K\u001b[14A\u001b[2K\u001b[15A\u001b[2K\u001b[13A\u001b[2K\u001b[15A\u001b[2K\u001b[13A\u001b[2K\u001b[9A\u001b[2K\u001b[13A\u001b[2K\u001b[9A\u001b[2K\u001b[15A\u001b[2K\u001b[13A\u001b[2K\u001b[9A\u001b[2K\u001b[15A\u001b[2K\u001b[14A\u001b[2K\u001b[8A\u001b[2K\u001b[14A\u001b[2K\u001b[8A\u001b[2K\u001b[9A\u001b[2K\u001b[14A\u001b[2K\u001b[8A\u001b[2K\u001b[9A\u001b[2K\u001b[8A\u001b[2K\u001b[9A\u001b[2K\u001b[8A\u001b[2K\u001b[9A\u001b[2K\u001b[14A\u001b[2K\u001b[15A\u001b[2K\u001b[13A\u001b[2K\u001b[9A\u001b[2K\u001b[13A\u001b[2K\u001b[9A\u001b[2K\u001b[9A\u001b[2K\u001b[15A\u001b[2K\u001b[14A\u001b[2K\u001b[9A\u001b[2K\u001b[13A\u001b[2K\u001b[14A\u001b[2K\u001b[9A\u001b[2K\u001b[13A\u001b[2K\u001b[15A\u001b[2K\u001b[8A\u001b[2K\u001b[13A\u001b[2K\u001b[9A\u001b[2K\u001b[15A\u001b[2K\u001b[13A\u001b[2K\u001b[9A\u001b[2K\u001b[14A\u001b[2K\u001b[9A\u001b[2K\u001b[15A\u001b[2K\u001b[8A\u001b[2K\u001b[14A\u001b[2K\u001b[9A\u001b[2K\u001b[8A\u001b[2K\u001b[9A\u001b[2K\u001b[15A\u001b[2K\u001b[13A\u001b[2K\u001b[9A\u001b[2K\u001b[15A\u001b[2K\u001b[9A\u001b[2K\u001b[14A\u001b[2K\u001b[15A\u001b[2K\u001b[13A\u001b[2K\u001b[15A\u001b[2K\u001b[9A\u001b[2K\u001b[15A\u001b[2K\u001b[9A\u001b[2K\u001b[15A\u001b[2K\u001b[9A\u001b[2K\u001b[14A\u001b[2K\u001b[15A\u001b[2K\u001b[9A\u001b[2K\u001b[15A\u001b[2K\u001b[13A\u001b[2K\u001b[15A\u001b[2K\u001b[9A\u001b[2K\u001b[15A\u001b[2K\u001b[8A\u001b[2K\u001b[9A\u001b[2K\u001b[14A\u001b[2K\u001b[15A\u001b[2K\u001b[13A\u001b[2K\u001b[15A\u001b[2K\u001b[8A\u001b[2K\u001b[9A\u001b[2K\u001b[15A\u001b[2K\u001b[9A\u001b[2K\u001b[15A\u001b[2K\u001b[13A\u001b[2K\u001b[15A\u001b[2K\u001b[9A\u001b[2K\u001b[14A\u001b[2K\u001b[15A\u001b[2K\u001b[8A\u001b[2K\u001b[15A\u001b[2K\u001b[15A\u001b[2K\u001b[8A\u001b[2K\u001b[15A\u001b[2K\u001b[8A\u001b[2K\u001b[15A\u001b[2K\u001b[9A\u001b[2K\u001b[15A\u001b[2K\u001b[9A\u001b[2K\u001b[15A\u001b[2K\u001b[8A\u001b[2K\u001b[14A\u001b[2K\u001b[15A\u001b[2K\u001b[8A\u001b[2K\u001b[9A\u001b[2K\u001b[15A\u001b[2K\u001b[9A\u001b[2K\u001b[13A\u001b[2K\u001b[8A\u001b[2K\u001b[9A\u001b[2K\u001b[15A\u001b[2K\u001b[9A\u001b[2K\u001b[15A\u001b[2K\u001b[14A\u001b[2K\u001b[9A\u001b[2K\u001b[8A\u001b[2K\u001b[9A\u001b[2K\u001b[15A\u001b[2K\u001b[8A\u001b[2K\u001b[15A\u001b[2K\u001b[8A\u001b[2K\u001b[15A\u001b[2K\u001b[9A\u001b[2K\u001b[8A\u001b[2K\u001b[15A\u001b[2K\u001b[8A\u001b[2K\u001b[15A\u001b[2K\u001b[9A\u001b[2K\u001b[8A\u001b[2K\u001b[15A\u001b[2K\u001b[13A\u001b[2K\u001b[15A\u001b[2K\u001b[9A\u001b[2K\u001b[8A\u001b[2K\u001b[15A\u001b[2K\u001b[13A\u001b[2K\u001b[9A\u001b[2K\u001b[15A\u001b[2K\u001b[8A\u001b[2K\u001b[8A\u001b[2K\u001b[14A\u001b[2K\u001b[9A\u001b[2K\u001b[15A\u001b[2K\u001b[13A\u001b[2K\u001b[9A\u001b[2K\u001b[8A\u001b[2K\u001b[15A\u001b[2K\u001b[15A\u001b[2K\u001b[9A\u001b[2K\u001b[15A\u001b[2K\u001b[8A\u001b[2K\u001b[15A\u001b[2K\u001b[8A\u001b[2K\u001b[14A\u001b[2K\u001b[15A\u001b[2K\u001b[9A\u001b[2K\u001b[8A\u001b[2K\u001b[15A\u001b[2K\u001b[13A\u001b[2K\u001b[15A\u001b[2K\u001b[14A\u001b[2K\u001b[15A\u001b[2K\u001b[13A\u001b[2K\u001b[15A\u001b[2K\u001b[14A\u001b[2K\u001b[13A\u001b[2K\u001b[14A\u001b[2K\u001b[15A\u001b[2K\u001b[15A\u001b[2K\u001b[13A\u001b[2K\u001b[15A\u001b[2K\u001b[13A\u001b[2K\u001b[8A\u001b[2K\u001b[8A\u001b[2K\u001b[9A\u001b[2K\u001b[13A\u001b[2K\u001b[14A\u001b[2K\u001b[8A\u001b[2K\u001b[9A\u001b[2K\u001b[8A\u001b[2K\u001b[15A\u001b[2K\u001b[8A\u001b[2K\u001b[15A\u001b[2K\u001b[9A\u001b[2K\u001b[15A\u001b[2K\u001b[14A\u001b[2K\u001b[8A\u001b[2K\u001b[9A\u001b[2K\u001b[15A\u001b[2K\u001b[15A\u001b[2K\u001b[14A\u001b[2K\u001b[15A\u001b[2K\u001b[13A\u001b[2K\u001b[14A\u001b[2K\u001b[13A\u001b[2K\u001b[15A\u001b[2K\u001b[13A\u001b[2K\u001b[14A\u001b[2K\u001b[15A\u001b[2K\u001b[13A\u001b[2K\u001b[14A\u001b[2K\u001b[15A\u001b[2K\u001b[13A\u001b[2K\u001b[15A\u001b[2K\u001b[14A\u001b[2K\u001b[15A\u001b[2K\u001b[13A\u001b[2K\u001b[13A\u001b[2K\u001b[15A\u001b[2K\u001b[13A\u001b[2K\u001b[15A\u001b[2K\u001b[14A\u001b[2K\u001b[9A\u001b[2K\u001b[14A\u001b[2K\u001b[15A\u001b[2K\u001b[14A\u001b[2K\u001b[15A\u001b[2K\u001b[14A\u001b[2K\u001b[14A\u001b[2K\u001b[8A\u001b[2K\u001b[13A\u001b[2K\u001b[15A\u001b[2K\u001b[15A\u001b[2K\u001b[13A\u001b[2K\u001b[14A\u001b[2K\u001b[13A\u001b[2K\u001b[9A\u001b[2K\u001b[9A\u001b[2K\u001b[14A\u001b[2K\u001b[9A\u001b[2K\u001b[13A\u001b[2K\u001b[14A\u001b[2K\u001b[9A\u001b[2K\u001b[8A\u001b[2K\u001b[14A\u001b[2K\u001b[9A\u001b[2K\u001b[13A\u001b[2K\u001b[9A\u001b[2K\u001b[8A\u001b[2K\u001b[14A\u001b[2K\u001b[9A\u001b[2K\u001b[8A\u001b[2K\u001b[14A\u001b[2K\u001b[15A\u001b[2K\u001b[8A\u001b[2K\u001b[15A\u001b[2K\u001b[14A\u001b[2K\u001b[15A\u001b[2K\u001b[8A\u001b[2K\u001b[15A\u001b[2K\u001b[14A\u001b[2K\u001b[15A\u001b[2K\u001b[14A\u001b[2K\u001b[14A\u001b[2K\u001b[14A\u001b[2K\u001b[13A\u001b[2K\u001b[9A\u001b[2K\u001b[14A\u001b[2K\u001b[14A\u001b[2K\u001b[15A\u001b[2K\u001b[15A\u001b[2K\u001b[15A\u001b[2K\u001b[14A\u001b[2K\u001b[9A\u001b[2K\u001b[14A\u001b[2K\u001b[15A\u001b[2K\u001b[14A\u001b[2K\u001b[9A\u001b[2K\u001b[15A\u001b[2K\u001b[9A\u001b[2K\u001b[14A\u001b[2K\u001b[9A\u001b[2K\u001b[14A\u001b[2K\u001b[15A\u001b[2K\u001b[13A\u001b[2K\u001b[14A\u001b[2K\u001b[9A\u001b[2K\u001b[14A\u001b[2K\u001b[15A\u001b[2K\u001b[14A\u001b[2K\u001b[9A\u001b[2K\u001b[14A\u001b[2K\u001b[15A\u001b[2K\u001b[14A\u001b[2K\u001b[13A\u001b[2K\u001b[9A\u001b[2K\u001b[14A\u001b[2K\u001b[15A\u001b[2K\u001b[14A\u001b[2K\u001b[15A\u001b[2K\u001b[14A\u001b[2K\u001b[15A\u001b[2K\u001b[14A\u001b[2K\u001b[14A\u001b[2K\u001b[15A\u001b[2K\u001b[14A\u001b[2K\u001b[15A\u001b[2K\u001b[13A\u001b[2K\u001b[15A\u001b[2K\u001b[9A\u001b[2K\u001b[13A\u001b[2K\u001b[15A\u001b[2K\u001b[13A\u001b[2K\u001b[13A\u001b[2K\u001b[8A\u001b[2K\u001b[15A\u001b[2K\u001b[9A\u001b[2K\u001b[15A\u001b[2K\u001b[15A\u001b[2K\u001b[14A\u001b[2K\u001b[15A\u001b[2K\u001b[8A\u001b[2K\u001b[13A\u001b[2K\u001b[15A\u001b[2K\u001b[14A\u001b[2K\u001b[15A\u001b[2K\u001b[14A\u001b[2K\u001b[15A\u001b[2K\u001b[14A\u001b[2K\u001b[15A\u001b[2K\u001b[9A\u001b[2K\u001b[9A\u001b[2K\u001b[8A\u001b[2K\u001b[9A\u001b[2K\u001b[15A\u001b[2K\u001b[9A\u001b[2K\u001b[8A\u001b[2K\u001b[15A\u001b[2K\u001b[14A\u001b[2K\u001b[9A\u001b[2K\u001b[15A\u001b[2K\u001b[8A\u001b[2K\u001b[13A\u001b[2K\u001b[14A\u001b[2K\u001b[15A\u001b[2K\u001b[15A\u001b[2K\u001b[14A\u001b[2K\u001b[15A\u001b[2K\u001b[15A\u001b[2K\u001b[15A\u001b[2K\u001b[9A\u001b[2K\u001b[15A\u001b[2K\u001b[8A\u001b[2K\u001b[15A\u001b[2K\u001b[9A\u001b[2K\u001b[15A\u001b[2K\u001b[8A\u001b[2K\u001b[15A\u001b[2K\u001b[8A\u001b[2K\u001b[15A\u001b[2K\u001b[14A\u001b[2K\u001b[15A\u001b[2K\u001b[14A\u001b[2K\u001b[15A\u001b[2K\u001b[14A\u001b[2K\u001b[15A\u001b[2K\u001b[14A\u001b[2K\u001b[15A\u001b[2K\u001b[8A\u001b[2K\u001b[15A\u001b[2K\u001b[8A\u001b[2K\u001b[9A\u001b[2K\u001b[8A\u001b[2K\u001b[9A\u001b[2K\u001b[8A\u001b[2K\u001b[14A\u001b[2K\u001b[8A\u001b[2K\u001b[9A\u001b[2K\u001b[14A\u001b[2K\u001b[9A\u001b[2K\u001b[9A\u001b[2K\u001b[14A\u001b[2K\u001b[9A\u001b[2K\u001b[14A\u001b[2K\u001b[15A\u001b[2K\u001b[8A\u001b[2K\u001b[9A\u001b[2K\u001b[14A\u001b[2K\u001b[9A\u001b[2K\u001b[8A\u001b[2K\u001b[9A\u001b[2K\u001b[14A\u001b[2K\u001b[9A\u001b[2K\u001b[14A\u001b[2K\u001b[9A\u001b[2K\u001b[8A\u001b[2K\u001b[9A\u001b[2K\u001b[8A\u001b[2K\u001b[9A\u001b[2K\u001b[14A\u001b[2K\u001b[8A\u001b[2K\u001b[15A\u001b[2K\u001b[9A\u001b[2K\u001b[15A\u001b[2K\u001b[14A\u001b[2K\u001b[15A\u001b[2K\u001b[9A\u001b[2K\u001b[9A\u001b[2K\u001b[14A\u001b[2K\u001b[9A\u001b[2K\u001b[15A\u001b[2K\u001b[9A\u001b[2K\u001b[15A\u001b[2K\u001b[8A\u001b[2K\u001b[15A\u001b[2K\u001b[8A\u001b[2K\u001b[15A\u001b[2K\u001b[9A\u001b[2K\u001b[15A\u001b[2K\u001b[9A\u001b[2K\u001b[15A\u001b[2K\u001b[9A\u001b[2K\u001b[15A\u001b[2K\u001b[9A\u001b[2K\u001b[8A\u001b[2K\u001b[9A\u001b[2K\u001b[8A\u001b[2K\u001b[9A\u001b[2K\u001b[14A\u001b[2K\u001b[9A\u001b[2K\u001b[8A\u001b[2K\u001b[9A\u001b[2K\u001b[8A\u001b[2K\u001b[9A\u001b[2K\u001b[8A\u001b[2K\u001b[8A\u001b[2K\u001b[8A\u001b[2K\u001b[15A\u001b[2K\u001b[9A\u001b[2K\u001b[15A\u001b[2K\u001b[9A\u001b[2K\u001b[15A\u001b[2K\u001b[9A\u001b[2K\u001b[15A\u001b[2K\u001b[9A\u001b[2K\u001b[15A\u001b[2K\u001b[9A\u001b[2K\u001b[15A\u001b[2K\u001b[8A\u001b[2K\u001b[15A\u001b[2K\u001b[8A\u001b[2K\u001b[9A\u001b[2K\u001b[9A\u001b[2K\u001b[9A\u001b[2K\u001b[8A\u001b[2K\u001b[9A\u001b[2K\u001b[8A\u001b[2K\u001b[9A\u001b[2K\u001b[8A\u001b[2K\u001b[8A\u001b[2K\u001b[15A\u001b[2K\u001b[9A\u001b[2K\u001b[15A\u001b[2K\u001b[14A\u001b[2K\u001b[15A\u001b[2K\u001b[9A\u001b[2K\u001b[15A\u001b[2K\u001b[13A\u001b[2K\u001b[15A\u001b[2K\u001b[8A\u001b[2K\u001b[15A\u001b[2K\u001b[8A\u001b[2K\u001b[15A\u001b[2K\u001b[8A\u001b[2K\u001b[15A\u001b[2K\u001b[8A\u001b[2K\u001b[9A\u001b[2K\u001b[8A\u001b[2K\u001b[9A\u001b[2K\u001b[14A\u001b[2K\u001b[9A\u001b[2K\u001b[8A\u001b[2K\u001b[9A\u001b[2K\u001b[8A\u001b[2K\u001b[9A\u001b[2K\u001b[8A\u001b[2K\u001b[9A\u001b[2K\u001b[14A\u001b[2K\u001b[8A\u001b[2K\u001b[9A\u001b[2K\u001b[15A\u001b[2K\u001b[13A\u001b[2K\u001b[8A\u001b[2K\u001b[9A\u001b[2K\u001b[8A\u001b[2K\u001b[9A\u001b[2K\u001b[14A\u001b[2K\u001b[15A\u001b[2K\u001b[8A\u001b[2K\u001b[8A\u001b[2K\u001b[8A\u001b[2K\u001b[9A\u001b[2K\u001b[8A\u001b[2K\u001b[9A\u001b[2K\u001b[8A\u001b[2K\u001b[15A\u001b[2K\u001b[8A\u001b[2K\u001b[15A\u001b[2K\u001b[8A\u001b[2K\u001b[9A\u001b[2K\u001b[8A\u001b[2K\u001b[9A\u001b[2K\u001b[8A\u001b[2K\u001b[9A\u001b[2K\u001b[8A\u001b[2K\u001b[9A\u001b[2K\u001b[8A\u001b[2K\u001b[9A\u001b[2K\u001b[8A\u001b[2K\u001b[9A\u001b[2K\u001b[8A\u001b[2K\u001b[9A\u001b[2K\u001b[14A\u001b[2K\u001b[8A\u001b[2K\u001b[9A\u001b[2K\u001b[8A\u001b[2K\u001b[9A\u001b[2K\u001b[8A\u001b[2K\u001b[9A\u001b[2K\u001b[8A\u001b[2K\u001b[9A\u001b[2K\u001b[9A\u001b[2K\u001b[15A\u001b[2K\u001b[9A\u001b[2K\u001b[15A\u001b[2K\u001b[9A\u001b[2K\u001b[15A\u001b[2K\u001b[9A\u001b[2K\u001b[8A\u001b[2K\u001b[8A\u001b[2K\u001b[9A\u001b[2K\u001b[8A\u001b[2K\u001b[9A\u001b[2K\u001b[8A\u001b[2K\u001b[14A\u001b[2K\u001b[8A\u001b[2K\u001b[15A\u001b[2K\u001b[9A\u001b[2K\u001b[15A\u001b[2K\u001b[8A\u001b[2K\u001b[13A\u001b[2K\u001b[15A\u001b[2K\u001b[15A\u001b[2K\u001b[9A\u001b[2K\u001b[15A\u001b[2K\u001b[9A\u001b[2K\u001b[14A\u001b[2K\u001b[13A\u001b[2K\u001b[9A\u001b[2K\u001b[14A\u001b[2K\u001b[13A\u001b[2K\u001b[15A\u001b[2K\u001b[14A\u001b[2K\u001b[13A\u001b[2K\u001b[15A\u001b[2K\u001b[9A\u001b[2K\u001b[14A\u001b[2K\u001b[8A\u001b[2K\u001b[15A\u001b[2K\u001b[8A\u001b[2K\u001b[8A\u001b[2K\u001b[9A\u001b[2K\u001b[8A\u001b[2K\u001b[9A\u001b[2K\u001b[8A\u001b[2K\u001b[9A\u001b[2K\u001b[15A\u001b[2K\u001b[9A\u001b[2K\u001b[15A\u001b[2K\u001b[8A\u001b[2K\u001b[9A\u001b[2K\u001b[8A\u001b[2K\u001b[9A\u001b[2K\u001b[8A\u001b[2K\u001b[9A\u001b[2K\u001b[8A\u001b[2K\u001b[14A\u001b[2K\u001b[9A\u001b[2K\u001b[14A\u001b[2K\u001b[9A\u001b[2K\u001b[14A\u001b[2K\u001b[9A\u001b[2K\u001b[8A\u001b[2K\u001b[9A\u001b[2K\u001b[15A\u001b[2K\u001b[8A\u001b[2K\u001b[15A\u001b[2K\u001b[9A\u001b[2K\u001b[15A\u001b[2K\u001b[9A\u001b[2K\u001b[8A\u001b[2K\u001b[15A\u001b[2K\u001b[9A\u001b[2K\u001b[14A\u001b[2K\u001b[15A\u001b[2K\u001b[9A\u001b[2K\u001b[14A\u001b[2K\u001b[9A\u001b[2K\u001b[8A\u001b[2K\u001b[14A\u001b[2K\u001b[9A\u001b[2K\u001b[9A\u001b[2K\u001b[15A\u001b[2K\u001b[8A\u001b[2K\u001b[14A\u001b[2K\u001b[8A\u001b[2K\u001b[14A\u001b[2K\u001b[9A\u001b[2K\u001b[15A\u001b[2K\u001b[9A\u001b[2K\u001b[14A\u001b[2K\u001b[9A\u001b[2K\u001b[9A\u001b[2K\u001b[8A\u001b[2K\u001b[9A\u001b[2K\u001b[14A\u001b[2K\u001b[9A\u001b[2K\u001b[8A\u001b[2K\u001b[9A\u001b[2K\u001b[8A\u001b[2K\u001b[9A\u001b[2K\u001b[8A\u001b[2K\u001b[14A\u001b[2K\u001b[8A\u001b[2K\u001b[9A\u001b[2K\u001b[13A\u001b[2K\u001b[14A\u001b[2K\u001b[15A\u001b[2K\u001b[14A\u001b[2K\u001b[9A\u001b[2K\u001b[14A\u001b[2K\u001b[9A\u001b[2K\u001b[14A\u001b[2K\u001b[9A\u001b[2K\u001b[13A\u001b[2K\u001b[14A\u001b[2K\u001b[13A\u001b[2K\u001b[8A\u001b[2K\u001b[9A\u001b[2K\u001b[15A\u001b[2K\u001b[8A\u001b[2K\u001b[14A\u001b[2K\u001b[15A\u001b[2K\u001b[14A\u001b[2K\u001b[15A\u001b[2K\u001b[9A\u001b[2K\u001b[8A\u001b[2K\u001b[14A\u001b[2K\u001b[8A\u001b[2K\u001b[14A\u001b[2K\u001b[13A\u001b[2K\u001b[9A\u001b[2K\u001b[14A\u001b[2K\u001b[13A\u001b[2K\u001b[9A\u001b[2K\u001b[8A\u001b[2K\u001b[15A\u001b[2K\u001b[14A\u001b[2K\u001b[13A\u001b[2K\u001b[9A\u001b[2K\u001b[8A\u001b[2K\u001b[9A\u001b[2K\u001b[8A\u001b[2K\u001b[15A\u001b[2K\u001b[14A\u001b[2K\u001b[8A\u001b[2K\u001b[9A\u001b[2K\u001b[14A\u001b[2K\u001b[9A\u001b[2K\u001b[15A\u001b[2K\u001b[9A\u001b[2K\u001b[15A\u001b[2K\u001b[13A\u001b[2K\u001b[9A\u001b[2K\u001b[13A\u001b[2K\u001b[9A\u001b[2K\u001b[13A\u001b[2K\u001b[15A\u001b[2K\u001b[14A\u001b[2K\u001b[14A\u001b[2K\u001b[14A\u001b[2K\u001b[13A\u001b[2K\u001b[8A\u001b[2K\u001b[14A\u001b[2K\u001b[13A\u001b[2K\u001b[15A\u001b[2K\u001b[14A\u001b[2K\u001b[13A\u001b[2K\u001b[15A\u001b[2K\u001b[9A\u001b[2K\u001b[13A\u001b[2K\u001b[15A\u001b[2K\u001b[8A\u001b[2K\u001b[15A\u001b[2K\u001b[9A\u001b[2K\u001b[14A\u001b[2K\u001b[8A\u001b[2K\u001b[15A\u001b[2K\u001b[9A\u001b[2K\u001b[8A\u001b[2K\u001b[9A\u001b[2K\u001b[8A\u001b[2K\u001b[8A\u001b[2K\u001b[9A\u001b[2K\u001b[8A\u001b[2K\u001b[9A\u001b[2K\u001b[15A\u001b[2K\u001b[9A\u001b[2K\u001b[8A\u001b[2K\u001b[14A\u001b[2K\u001b[8A\u001b[2K\u001b[14A\u001b[2K\u001b[8A\u001b[2K\u001b[8A\u001b[2K\u001b[9A\u001b[2K\u001b[8A\u001b[2K\u001b[14A\u001b[2K\u001b[8A\u001b[2K\u001b[15A\u001b[2K\u001b[8A\u001b[2K\u001b[15A\u001b[2K\u001b[13A\u001b[2K\u001b[8A\u001b[2K\u001b[13A\u001b[2K\u001b[8A\u001b[2K\u001b[15A\u001b[2K\u001b[9A\u001b[2K\u001b[8A\u001b[2K\u001b[13A\u001b[2K\u001b[14A\u001b[2K\u001b[8A\u001b[2K\u001b[8A\u001b[2K\u001b[9A\u001b[2K\u001b[8A\u001b[2K\u001b[14A\u001b[2K\u001b[9A\u001b[2K\u001b[15A\u001b[2K\u001b[14A\u001b[2K\u001b[8A\u001b[2K\u001b[14A\u001b[2K\u001b[9A\u001b[2K\u001b[9A\u001b[2K\u001b[8A\u001b[2K\u001b[9A\u001b[2K\u001b[9A\u001b[2K\u001b[14A\u001b[2K\u001b[9A\u001b[2K\u001b[8A\u001b[2K\u001b[14A\u001b[2K\u001b[9A\u001b[2K\u001b[8A\u001b[2K\u001b[14A\u001b[2K\u001b[8A\u001b[2K\u001b[9A\u001b[2K\u001b[14A\u001b[2K\u001b[8A\u001b[2K\u001b[9A\u001b[2K\u001b[8A\u001b[2K\u001b[8A\u001b[2K\u001b[14A\u001b[2K\u001b[8A\u001b[2K\u001b[9A\u001b[2K\u001b[8A\u001b[2K\u001b[14A\u001b[2K\u001b[8A\u001b[2K\u001b[9A\u001b[2K\u001b[14A\u001b[2K\u001b[9A\u001b[2K\u001b[15A\u001b[2K\u001b[9A\u001b[2K\u001b[14A\u001b[2K\u001b[9A\u001b[2K\u001b[8A\u001b[2K\u001b[9A\u001b[2K\u001b[8A\u001b[2K\u001b[9A\u001b[2K\u001b[14A\u001b[2K\u001b[9A\u001b[2K\u001b[15A\u001b[2K\u001b[14A\u001b[2K\u001b[8A\u001b[2K\u001b[14A\u001b[2K\u001b[9A\u001b[2K\u001b[14A\u001b[2K\u001b[8A\u001b[2K\u001b[14A\u001b[2K\u001b[14A\u001b[2K\u001b[9A\u001b[2K\u001b[14A\u001b[2K\u001b[8A\u001b[2K\u001b[14A\u001b[2K\u001b[8A\u001b[2K\u001b[14A\u001b[2K\u001b[9A\u001b[2K\u001b[14A\u001b[2K\u001b[9A\u001b[2K\u001b[15A\u001b[2K\u001b[9A\u001b[2K\u001b[15A\u001b[2K\u001b[14A\u001b[2K\u001b[15A\u001b[2K\u001b[9A\u001b[2K\u001b[15A\u001b[2K\u001b[14A\u001b[2K\u001b[15A\u001b[2K\u001b[14A\u001b[2K\u001b[15A\u001b[2K\u001b[14A\u001b[2K\u001b[8A\u001b[2K\u001b[14A\u001b[2K\u001b[9A\u001b[2K\u001b[9A\u001b[2K\u001b[9A\u001b[2K\u001b[14A\u001b[2K\u001b[9A\u001b[2K\u001b[15A\u001b[2K\u001b[13A\u001b[2K\u001b[8A\u001b[2K\u001b[14A\u001b[2K\u001b[8A\u001b[2K\u001b[13A\u001b[2K\u001b[9A\u001b[2K\u001b[14A\u001b[2K\u001b[15A\u001b[2K\u001b[14A\u001b[2K\u001b[9A\u001b[2K\u001b[8A\u001b[2K\u001b[9A\u001b[2K\u001b[8A\u001b[2K\u001b[14A\u001b[2K\u001b[15A\u001b[2K\u001b[8A\u001b[2K\u001b[9A\u001b[2K\u001b[15A\u001b[2K\u001b[14A\u001b[2K\u001b[14A\u001b[2K\u001b[15A\u001b[2K\u001b[14A\u001b[2K\u001b[14A\u001b[2K\u001b[15A\u001b[2K\u001b[14A\u001b[2K\u001b[14A\u001b[2K\u001b[8A\u001b[2K\u001b[14A\u001b[2K\u001b[8A\u001b[2K\u001b[15A\u001b[2K\u001b[8A\u001b[2K\u001b[15A\u001b[2K\u001b[8A\u001b[2K\u001b[15A\u001b[2K\u001b[8A\u001b[2K\u001b[9A\u001b[2K\u001b[15A\u001b[2K\u001b[8A\u001b[2K\u001b[15A\u001b[2K\u001b[14A\u001b[2K\u001b[15A\u001b[2K\u001b[14A\u001b[2K\u001b[9A\u001b[2K\u001b[15A\u001b[2K\u001b[14A\u001b[2K\u001b[15A\u001b[2K\u001b[13A\u001b[2K\u001b[14A\u001b[2K\u001b[15A\u001b[2K\u001b[8A\u001b[2K\u001b[14A\u001b[2K\u001b[8A\u001b[2K\u001b[15A\u001b[2K\u001b[8A\u001b[2K\u001b[15A\u001b[2K\u001b[14A\u001b[2K\u001b[15A\u001b[2K\u001b[8A\u001b[2K\u001b[14A\u001b[2K\u001b[15A\u001b[2K\u001b[13A\u001b[2K\u001b[8A\u001b[2K\u001b[13A\u001b[2K\u001b[15A\u001b[2K\u001b[14A\u001b[2K\u001b[8A\u001b[2K\u001b[15A\u001b[2K\u001b[8A\u001b[2K\u001b[14A\u001b[2K\u001b[8A\u001b[2K\u001b[8A\u001b[2K\u001b[14A\u001b[2K\u001b[8A\u001b[2K\u001b[14A\u001b[2K\u001b[8A\u001b[2K\u001b[8A\u001b[2K\u001b[15A\u001b[2K\u001b[14A\u001b[2K\u001b[8A\u001b[2K\u001b[14A\u001b[2K\u001b[8A\u001b[2K\u001b[14A\u001b[2K\u001b[8A\u001b[2K\u001b[8A\u001b[2K\u001b[14A\u001b[2K\u001b[15A\u001b[2K\u001b[14A\u001b[2K\u001b[15A\u001b[2K\u001b[9A\u001b[2K\u001b[15A\u001b[2K\u001b[14A\u001b[2K\u001b[15A\u001b[2K\u001b[15A\u001b[2K\u001b[8A\u001b[2K\u001b[14A\u001b[2K\u001b[8A\u001b[2K\u001b[14A\u001b[2K\u001b[8A\u001b[2K\u001b[9A\u001b[2K\u001b[8A\u001b[2K\u001b[14A\u001b[2K\u001b[8A\u001b[2K\u001b[9A\u001b[2K\u001b[8A\u001b[2K\u001b[14A\u001b[2K\u001b[9A\u001b[2K\u001b[8A\u001b[2K\u001b[14A\u001b[2K\u001b[8A\u001b[2K\u001b[8A\u001b[2K\u001b[8A\u001b[2K\u001b[13A\u001b[2K\u001b[8A\u001b[2K\u001b[14A\u001b[2K\u001b[9A\u001b[2K\u001b[8A\u001b[2K\u001b[14A\u001b[2K\u001b[9A\u001b[2K\u001b[8A\u001b[2K\u001b[14A\u001b[2K\u001b[9A\u001b[2K\u001b[14A\u001b[2K\u001b[8A\u001b[2K\u001b[14A\u001b[2K\u001b[14A\u001b[2K\u001b[8A\u001b[2K\u001b[14A\u001b[2K\u001b[8A\u001b[2K\u001b[14A\u001b[2K\u001b[8A\u001b[2K\u001b[9A\u001b[2K\u001b[8A\u001b[2K\u001b[9A\u001b[2K\u001b[8A\u001b[2K\u001b[15A\u001b[2K\u001b[8A\u001b[2K\u001b[15A\u001b[2K\u001b[14A\u001b[2K\u001b[15A\u001b[2K\u001b[8A\u001b[2K\u001b[9A\u001b[2K\u001b[9A\u001b[2K\u001b[9A\u001b[2K\u001b[9A\u001b[2K\u001b[9A\u001b[2K\u001b[13A\u001b[2K\u001b[9A\u001b[2K\u001b[14A\u001b[2K\u001b[9A\u001b[2K\u001b[8A\u001b[2K\u001b[14A\u001b[2K\u001b[8A\u001b[2K\u001b[9A\u001b[2K\u001b[14A\u001b[2K\u001b[9A\u001b[2K\u001b[8A\u001b[2K\u001b[9A\u001b[2K\u001b[15A\u001b[2K\u001b[9A\u001b[2K\u001b[9A\u001b[2K\u001b[15A\u001b[2K\u001b[8A\u001b[2K\u001b[15A\u001b[2K\u001b[15A\u001b[2K\u001b[9A\u001b[2K\u001b[15A\u001b[2K\u001b[9A\u001b[2K\u001b[15A\u001b[2K\u001b[14A\u001b[2K\u001b[9A\u001b[2K\u001b[9A\u001b[2K\u001b[15A\u001b[2K\u001b[9A\u001b[2K\u001b[15A\u001b[2K\u001b[9A\u001b[2K\u001b[15A\u001b[2K\u001b[9A\u001b[2K\u001b[15A\u001b[2K\u001b[8A\u001b[2K\u001b[15A\u001b[2K\u001b[8A\u001b[2K\u001b[15A\u001b[2K\u001b[9A\u001b[2K\u001b[15A\u001b[2K\u001b[15A\u001b[2K\u001b[9A\u001b[2K\u001b[15A\u001b[2K\u001b[8A\u001b[2K\u001b[15A\u001b[2K\u001b[8A\u001b[2K\u001b[15A\u001b[2K\u001b[9A\u001b[2K\u001b[15A\u001b[2K\u001b[9A\u001b[2K\u001b[15A\u001b[2K\u001b[9A\u001b[2K\u001b[15A\u001b[2K\u001b[8A\u001b[2K\u001b[14A\u001b[2K\u001b[8A\u001b[2K\u001b[15A\u001b[2K\u001b[9A\u001b[2K\u001b[15A\u001b[2K\u001b[9A\u001b[2K\u001b[8A\u001b[2K\u001b[9A\u001b[2K\u001b[8A\u001b[2K\u001b[15A\u001b[2K\u001b[15A\u001b[2K\u001b[15A\u001b[2K\u001b[9A\u001b[2K\u001b[15A\u001b[2K\u001b[8A\u001b[2K\u001b[15A\u001b[2K\u001b[8A\u001b[2K\u001b[15A\u001b[2K\u001b[8A\u001b[2K\u001b[15A\u001b[2K\u001b[14A\u001b[2K\u001b[15A\u001b[2K\u001b[8A\u001b[2K\u001b[9A\u001b[2K\u001b[8A\u001b[2K\u001b[9A\u001b[2K\u001b[15A\u001b[2K\u001b[8A\u001b[2K\u001b[15A\u001b[2K\u001b[8A\u001b[2K\u001b[9A\u001b[2K\u001b[8A\u001b[2K\u001b[15A\u001b[2K\u001b[8A\u001b[2K\u001b[13A\u001b[2K\u001b[8A\u001b[2K\u001b[15A\u001b[2K\u001b[15A\u001b[2K\u001b[15A\u001b[2K\u001b[8A\u001b[2K\u001b[15A\u001b[2K\u001b[9A\u001b[2K\u001b[15A\u001b[2K\u001b[9A\u001b[2K\u001b[15A\u001b[2K\u001b[8A\u001b[2K\u001b[15A\u001b[2K\u001b[9A\u001b[2K\u001b[15A\u001b[2K\u001b[9A\u001b[2K\u001b[15A\u001b[2K\u001b[9A\u001b[2K\u001b[15A\u001b[2K\u001b[8A\u001b[2K\u001b[15A\u001b[2K\u001b[9A\u001b[2K\u001b[15A\u001b[2K\u001b[8A\u001b[2K\u001b[9A\u001b[2K\u001b[8A\u001b[2K\u001b[8A\u001b[2K\u001b[8A\u001b[2K\u001b[14A\u001b[2K\u001b[13A\u001b[2K\u001b[9A\u001b[2K\u001b[9A\u001b[2K\u001b[8A\u001b[2K\u001b[9A\u001b[2K\u001b[8A\u001b[2K\u001b[9A\u001b[2K\u001b[9A\u001b[2K\u001b[8A\u001b[2K\u001b[9A\u001b[2K\u001b[8A\u001b[2K\u001b[9A\u001b[2K\u001b[9A\u001b[2K\u001b[9A\u001b[2K\u001b[9A\u001b[2K\u001b[15A\u001b[2K\u001b[8A\u001b[2K\u001b[15A\u001b[2K\u001b[14A\u001b[2K\u001b[8A\u001b[2K\u001b[15A\u001b[2K\u001b[15A\u001b[2K\u001b[9A\u001b[2K\u001b[8A\u001b[2K\u001b[8A\u001b[2K\u001b[9A\u001b[2K\u001b[8A\u001b[2K\u001b[9A\u001b[2K\u001b[8A\u001b[2K\u001b[8A\u001b[2K\u001b[8A\u001b[2K\u001b[9A\u001b[2K\u001b[14A\u001b[2K\u001b[9A\u001b[2K\u001b[8A\u001b[2K\u001b[9A\u001b[2K\u001b[15A\u001b[2K\u001b[8A\u001b[2K\u001b[8A\u001b[2K\u001b[8A\u001b[2K\u001b[9A\u001b[2K\u001b[8A\u001b[2K\u001b[14A\u001b[2K\u001b[8A\u001b[2K\u001b[9A\u001b[2K\u001b[8A\u001b[2K\u001b[9A\u001b[2K\u001b[8A\u001b[2K\u001b[9A\u001b[2K\u001b[14A\u001b[2K\u001b[8A\u001b[2K\u001b[8A\u001b[2K\u001b[9A\u001b[2K\u001b[14A\u001b[2K\u001b[9A\u001b[2K\u001b[8A\u001b[2K\u001b[7A\u001b[2K\u001b[8A\u001b[2K\u001b[9A\u001b[2K\u001b[8A\u001b[2K\u001b[8A\u001b[2K\u001b[7A\u001b[2K\u001b[14A\u001b[2K\u001b[9A\u001b[2K\u001b[14A\u001b[2K\u001b[14A\u001b[2K\u001b[9A\u001b[2K\u001b[9A\u001b[2K\u001b[8A\u001b[2K\u001b[14A\u001b[2K\u001b[9A\u001b[2K\u001b[9A\u001b[2K\u001b[8A\u001b[2K\u001b[15A\u001b[2K\u001b[9A\u001b[2K\u001b[8A\u001b[2K\u001b[9A\u001b[2K\u001b[8A\u001b[2K\u001b[9A\u001b[2K\u001b[8A\u001b[2K\u001b[8A\u001b[2K\u001b[9A\u001b[2K\u001b[14A\u001b[2K\u001b[9A\u001b[2K\u001b[9A\u001b[2K\u001b[8A\u001b[2K\u001b[9A\u001b[2K\u001b[8A\u001b[2K\u001b[9A\u001b[2K\u001b[14A\u001b[2K\u001b[9A\u001b[2K\u001b[14A\u001b[2K\u001b[8A\u001b[2K\u001b[8A\u001b[2K\u001b[9A\u001b[2K\u001b[8A\u001b[2K\u001b[14A\u001b[2K\u001b[9A\u001b[2K\u001b[14A\u001b[2K\u001b[8A\u001b[2K\u001b[14A\u001b[2K\u001b[8A\u001b[2K\u001b[14A\u001b[2K\u001b[8A\u001b[2K\u001b[9A\u001b[2K\u001b[7A\u001b[2K\u001b[8A\u001b[2K\u001b[9A\u001b[2K\u001b[14A\u001b[2K\u001b[9A\u001b[2K\u001b[8A\u001b[2K\u001b[14A\u001b[2K\u001b[8A\u001b[2K\u001b[9A\u001b[2K\u001b[8A\u001b[2K\u001b[14A\u001b[2K\u001b[8A\u001b[2K\u001b[9A\u001b[2K\u001b[8A\u001b[2K\u001b[9A\u001b[2K\u001b[14A\u001b[2K\u001b[9A\u001b[2K\u001b[8A\u001b[2K\u001b[8A\u001b[2K\u001b[8A\u001b[2K\u001b[9A\u001b[2K\u001b[6A\u001b[2K\u001b[9A\u001b[2K\u001b[6A\u001b[2K\u001b[9A\u001b[2K\u001b[6A\u001b[2K\u001b[9A\u001b[2K\u001b[6A\u001b[2K\u001b[9A\u001b[2K\u001b[6A\u001b[2K\u001b[9A\u001b[2K\u001b[6A\u001b[2K\u001b[9A\u001b[2K\u001b[8A\u001b[2K\u001b[9A\u001b[2K\u001b[8A\u001b[2K\u001b[6A\u001b[2K\u001b[8A\u001b[2K\u001b[9A\u001b[2K\u001b[8A\u001b[2K\u001b[9A\u001b[2K\u001b[8A\u001b[2K\u001b[6A\u001b[2K\u001b[8A\u001b[2K\u001b[9A\u001b[2K\u001b[8A\u001b[2K\u001b[9A\u001b[2K\u001b[6A\u001b[2K\u001b[9A\u001b[2K\u001b[8A\u001b[2K\u001b[9A\u001b[2K\u001b[6A\u001b[2K\u001b[9A\u001b[2K\u001b[6A\u001b[2K\u001b[14A\u001b[2K\u001b[6A\u001b[2K\u001b[9A\u001b[2K\u001b[6A\u001b[2K\u001b[9A\u001b[2K\u001b[6A\u001b[2K\u001b[9A\u001b[2K\u001b[8A\u001b[2K\u001b[9A\u001b[2K\u001b[5A\u001b[2K\u001b[9A\u001b[2K\u001b[8A\u001b[2K\u001b[5A\u001b[2K\u001b[8A\u001b[2K\u001b[9A\u001b[2K\u001b[5A\u001b[2K\u001b[8A\u001b[2K\u001b[8A\u001b[2K\u001b[8A\u001b[2K\u001b[9A\u001b[2K\u001b[9A\u001b[2K\u001b[9A\u001b[2K\u001b[8A\u001b[2K\u001b[5A\u001b[2K\u001b[9A\u001b[2K\u001b[8A\u001b[2K\u001b[9A\u001b[2K\u001b[5A\u001b[2K\u001b[9A\u001b[2K\u001b[8A\u001b[2K\u001b[9A\u001b[2K\u001b[6A\u001b[2K\u001b[9A\u001b[2K\u001b[8A\u001b[2K\u001b[5A\u001b[2K\u001b[8A\u001b[2K\u001b[5A\u001b[2K\u001b[8A\u001b[2K\u001b[5A\u001b[2K\u001b[8A\u001b[2K\u001b[5A\u001b[2K\u001b[9A\u001b[2K\u001b[5A\u001b[2K\u001b[9A\u001b[2K\u001b[5A\u001b[2K\u001b[8A\u001b[2K\u001b[9A\u001b[2K\u001b[8A\u001b[2K\u001b[14A\u001b[2K\u001b[9A\u001b[2K\u001b[4A\u001b[2K\u001b[9A\u001b[2K\u001b[8A\u001b[2K\u001b[9A\u001b[2K\u001b[8A\u001b[2K\u001b[8A\u001b[2K\u001b[8A\u001b[2K\u001b[8A\u001b[2K\u001b[9A\u001b[2K\u001b[8A\u001b[2K\u001b[5A\u001b[2K\u001b[9A\u001b[2K\u001b[9A\u001b[2K\u001b[8A\u001b[2K\u001b[9A\u001b[2K\u001b[8A\u001b[2K\u001b[14A\u001b[2K\u001b[9A\u001b[2K\u001b[5A\u001b[2K\u001b[8A\u001b[2K\u001b[5A\u001b[2K\u001b[8A\u001b[2K\u001b[9A\u001b[2K\u001b[8A\u001b[2K\u001b[8A\u001b[2K\u001b[8A\u001b[2K\u001b[9A\u001b[2K\u001b[8A\u001b[2K\u001b[9A\u001b[2K\u001b[9A\u001b[2K\u001b[5A\u001b[2K\u001b[9A\u001b[2K\u001b[8A\u001b[2K\u001b[9A\u001b[2K\u001b[14A\u001b[2K\u001b[8A\u001b[2K\u001b[14A\u001b[2K\u001b[9A\u001b[2K\u001b[9A\u001b[2K\u001b[8A\u001b[2K\u001b[9A\u001b[2K\u001b[5A\u001b[2K\u001b[9A\u001b[2K\u001b[5A\u001b[2K\u001b[8A\u001b[2K\u001b[8A\u001b[2K\u001b[8A\u001b[2K\u001b[9A\u001b[2K\u001b[8A\u001b[2K\u001b[9A\u001b[2K\u001b[8A\u001b[2K\u001b[9A\u001b[2K\u001b[8A\u001b[2K\u001b[14A\u001b[2K\u001b[9A\u001b[2K\u001b[9A\u001b[2K\u001b[9A\u001b[2K\u001b[9A\u001b[2K\u001b[8A\u001b[2K\u001b[14A\u001b[2K\u001b[8A\u001b[2K\u001b[9A\u001b[2K\u001b[8A\u001b[2K\u001b[9A\u001b[2K\u001b[14A\u001b[2K\u001b[8A\u001b[2K\u001b[9A\u001b[2K\u001b[14A\u001b[2K\u001b[9A\u001b[2K\u001b[8A\u001b[2K\u001b[9A\u001b[2K\u001b[14A\u001b[2K\u001b[9A\u001b[2K\u001b[8A\u001b[2K\u001b[14A\u001b[2K\u001b[8A\u001b[2K\u001b[9A\u001b[2K\u001b[8A\u001b[2K\u001b[3A\u001b[2K\u001b[9A\u001b[2K\u001b[8A\u001b[2K\u001b[9A\u001b[2K\u001b[14A\u001b[2K\u001b[9A\u001b[2K\u001b[14A\u001b[2K\u001b[9A\u001b[2K\u001b[14A\u001b[2K\u001b[9A\u001b[2K\u001b[14A\u001b[2K\u001b[9A\u001b[2K\u001b[9A\u001b[2K\u001b[9A\u001b[2K\u001b[14A\u001b[2K\u001b[9A\u001b[2K\u001b[14A\u001b[2K\u001b[9A\u001b[2K\u001b[14A\u001b[2K\u001b[9A\u001b[2K\u001b[3A\u001b[2K\u001b[14A\u001b[2K\u001b[9A\u001b[2K\u001b[14A\u001b[2K\u001b[9A\u001b[2K\u001b[14A\u001b[2K\u001b[14A\u001b[2K\u001b[9A\u001b[2K\u001b[14A\u001b[2K\u001b[9A\u001b[2K\u001b[9A\u001b[2K\u001b[14A\u001b[2K\u001b[8A\u001b[2K\u001b[9A\u001b[2K\u001b[9A\u001b[2K\u001b[14A\u001b[2K\u001b[9A\u001b[2K\u001b[14A\u001b[2K\u001b[2A\u001b[2K\u001b[14A\u001b[2K\u001b[1A\u001b[2K\u001b[14A\u001b[2K\u001b[14A\u001b[2K\u001b[9A\u001b[2K\u001b[1A\u001b[2K\u001b[9A\u001b[2K\u001b[1A\u001b[2K\u001b[9A\u001b[2K\u001b[1A\u001b[2K\u001b[14A\u001b[2K\u001b[9A\u001b[2K\u001b[14A\u001b[2K\u001b[9A\u001b[2K\u001b[1A\u001b[2K\u001b[9A\u001b[2K\u001b[9A\u001b[2K\u001b[1A\u001b[2K\u001b[14A\u001b[2K\u001b[9A\u001b[2K\u001b[14A\u001b[2K\u001b[9A\u001b[2K\u001b[14A\u001b[2K\u001b[9A\u001b[2K\u001b[14A\u001b[2K\u001b[9A\u001b[2K\u001b[1A\u001b[2K\u001b[9A\u001b[2K\u001b[1A\u001b[2K\u001b[1A\u001b[2K\u001b[1A\u001b[2K\u001b[9A\u001b[2K\u001b[9A\u001b[2K\u001b[14A\u001b[2K\u001b[9A\u001b[2K\u001b[14A\u001b[2K\u001b[9A\u001b[2K\u001b[1A\u001b[2K\u001b[9A\u001b[2K\u001b[1A\u001b[2K\u001b[14A\u001b[2K\u001b[9A\u001b[2K\u001b[9A\u001b[2K\u001b[9A\u001b[2K\u001b[1A\u001b[2K\u001b[9A\u001b[2K\u001b[1A\u001b[2K\u001b[9A\u001b[2K\u001b[1A\u001b[2K\u001b[14A\u001b[2K\u001b[1A\u001b[2K\u001b[9A\u001b[2K\u001b[1A\u001b[2K\u001b[9A\u001b[2K\u001b[9A\u001b[2K\u001b[1A\u001b[2K\u001b[9A\u001b[2K\u001b[1A\u001b[2K\u001b[14A\u001b[2K\u001b[9A\u001b[2K\u001b[14A\u001b[2K\u001b[14A\u001b[2K\u001b[1A\u001b[2K\u001b[14A\u001b[2K\u001b[9A\u001b[2K\u001b[14A\u001b[2K\u001b[1A\u001b[2K\u001b[9A\u001b[2K\u001b[9A\u001b[2K\u001b[1A\u001b[2K\u001b[9A\u001b[2K\u001b[14A\u001b[2K\u001b[14A\u001b[2K\u001b[9A\u001b[2K\u001b[1A\u001b[2K\u001b[9A\u001b[2K\u001b[14A\u001b[2K\u001b[9A\u001b[2K\u001b[14A\u001b[2K\u001b[9A\u001b[2K\u001b[14A\u001b[2K\u001b[1A\u001b[2K\u001b[14A\u001b[2K\u001b[1A\u001b[2K\u001b[14A\u001b[2K\u001b[14A\u001b[2K\u001b[14A\u001b[2K\u001b[1A\u001b[2K\u001b[9A\u001b[2K\u001b[1A\u001b[2K\u001b[14A\u001b[2K\u001b[9A\u001b[2K\u001b[14A\u001b[2K\u001b[1A\u001b[2K\u001b[9A\u001b[2K\u001b[14A\u001b[2K\u001b[1A\u001b[2K\u001b[14A\u001b[2K\u001b[1A\u001b[2K\u001b[14A\u001b[2K\u001b[9A\u001b[2K\u001b[14A\u001b[2K\u001b[1A\u001b[2K\u001b[14A\u001b[2K\u001b[1A\u001b[2K\u001b[14A\u001b[2K\u001b[9A\u001b[2K\u001b[14A\u001b[2K\u001b[9A\u001b[2K\u001b[14A\u001b[2K\u001b[1A\u001b[2K\u001b[14A\u001b[2K\u001b[1A\u001b[2K\u001b[14A\u001b[2K\u001b[1A\u001b[2K\u001b[14A\u001b[2K\u001b[9A\u001b[2K\u001b[14A\u001b[2K\u001b[1A\u001b[2K\u001b[14A\u001b[2K\u001b[1A\u001b[2K\u001b[14A\u001b[2K\u001b[1A\u001b[2K\u001b[9A\u001b[2K\u001b[1A\u001b[2K\u001b[9A\u001b[2K\u001b[1A\u001b[2K\u001b[1A\u001b[2K\u001b[9A\u001b[2K\u001b[1A\u001b[2K\u001b[14A\u001b[2K\u001b[14A\u001b[2K\u001b[14A\u001b[2K\u001b[1A\u001b[2K\u001b[14A\u001b[2K\u001b[14A\u001b[2K\u001b[9A\u001b[2K\u001b[14A\u001b[2K\u001b[14A\u001b[2K\u001b[1A\u001b[2K\u001b[9A\u001b[2K\u001b[14A\u001b[2K\u001b[1A\u001b[2K\u001b[14A\u001b[2K\u001b[9A\u001b[2K\u001b[14A\u001b[2K\u001b[1A\u001b[2K\u001b[14A\u001b[2K\u001b[1A\u001b[2K\u001b[14A\u001b[2K\u001b[14A\u001b[2K\u001b[14A\u001b[2K\u001b[14A\u001b[2K\u001b[1A\u001b[2K\u001b[1A\u001b[2K\u001b[9A\u001b[2K\u001b[1A\u001b[2K\u001b[1A\u001b[2K\u001b[1A\u001b[2K\u001b[14A\u001b[2K\u001b[1A\u001b[2K\u001b[1A\u001b[2K\u001b[1A\u001b[2K\u001b[1A\u001b[2K\u001b[1A\u001b[2K\u001b[1A\u001b[2K\u001b[1A\u001b[2K\u001b[1A\u001b[2K\u001b[1A\u001b[2K\u001b[1A\u001b[2K\u001b[1A\u001b[2K\u001b[1A\u001b[2K\u001b[1A\u001b[2K\u001b[1A\u001b[2K\u001b[1A\u001b[2Klatest: digest: sha256:4ce16d709751ddab96b48eca46fb61ae96b4a3805961a88b968678aa207a298c size: 6407\n"
     ]
    }
   ],
   "source": [
    "!aws ecr get-login-password --region $region | docker login --username AWS --password-stdin $ecr\n",
    "\n",
    "# Create ECR repository and push docker image\n",
    "!docker build -t $ecr_repository ./\n",
    "\n",
    "!docker tag {ecr_repository + tag} $inference_repository_uri\n",
    "!docker push $inference_repository_uri"
   ]
  },
  {
   "cell_type": "markdown",
   "metadata": {},
   "source": [
    "将现有镜像下载到本地，并推送到自己的ECR库中"
   ]
  },
  {
   "cell_type": "code",
   "execution_count": 7,
   "metadata": {},
   "outputs": [
    {
     "data": {
      "text/plain": [
       "'690704700794.dkr.ecr.cn-northwest-1.amazonaws.com.cn/ocr-inference-container:latest'"
      ]
     },
     "execution_count": 7,
     "metadata": {},
     "output_type": "execute_result"
    }
   ],
   "source": [
    "inference_repository_uri"
   ]
  },
  {
   "cell_type": "markdown",
   "metadata": {},
   "source": [
    "### 注意\n",
    "\n",
    "**将如下model_uri改为在training阶段得到的模型在S3中的path，形式为s3://YOUR_BUCKET_NAME/spoken/output/-x-x-x-x-x-x-x/output/model.tar.gz**， 可以在console找到该训练任务，在该训练任务的描述页面中，找到“S3 模型构件”，复制即可。"
   ]
  },
  {
   "cell_type": "code",
   "execution_count": 8,
   "metadata": {},
   "outputs": [],
   "source": [
    "image = inference_repository_uri\n",
    "# update model_uri to your model S3 uri\n",
    "model_uri = 's3://dikers-data/sagemaker/ocr-pytorch-train/output/ocr-train-2020-08-03-13-42-44-937/output/model.tar.gz'\n"
   ]
  },
  {
   "cell_type": "markdown",
   "metadata": {},
   "source": [
    "\n",
    "推理请求的结构是发送一个json结构体，json结构体里面描述：\n",
    "\n",
    "bucket: 存放待推理音频数据的存储桶\n",
    "\n",
    "audio_uri:待推理音频数据在S3的uri，不含桶名\n",
    "\n",
    "class_count: 语音语言种类，与模型训练时强相关，即模型训练的时候提供了几种语言的种类，这儿就填几，如训练时提供了5种语言，这里就写5；\n",
    "\n",
    "**即发送推理请求前，先将待推理的音频文件上传到S3**"
   ]
  },
  {
   "cell_type": "markdown",
   "metadata": {},
   "source": [
    "## 测试文件格式说明\n",
    "\n",
    "bucket为保存待推理的图片文件桶名，image_uri为该待推理文件在S3中的uri，且不含有桶名，即只有前缀，\n",
    "如一个名为demo1.mp3文件上传到桶名为test的s3存储桶后（且audio目录下），\n",
    "\n",
    "```\n",
    "\n",
    "#s3://test_bucket/image/test.jpg\n",
    "\n",
    "bucket = 'test_bucket'\n",
    "audio_uri = 'image/test.jpg'\n",
    "\n",
    "```\n"
   ]
  },
  {
   "cell_type": "code",
   "execution_count": 9,
   "metadata": {},
   "outputs": [],
   "source": [
    "import json\n",
    "bucket = 'dikers-data'\n",
    "image_uri = 'images/test013.jpg'\n",
    "\n",
    "\n",
    "test_data = {\n",
    "    'bucket' : bucket,\n",
    "    'image_uri' : image_uri\n",
    "}\n",
    "payload = json.dumps(test_data)\n"
   ]
  },
  {
   "cell_type": "code",
   "execution_count": 10,
   "metadata": {},
   "outputs": [
    {
     "name": "stdout",
     "output_type": "stream",
     "text": [
      "{\"bucket\": \"dikers-data\", \"image_uri\": \"images/test013.jpg\"}\n"
     ]
    }
   ],
   "source": [
    "print(payload)"
   ]
  },
  {
   "cell_type": "markdown",
   "metadata": {},
   "source": [
    "### Method 1: Using sagemaker SDK"
   ]
  },
  {
   "cell_type": "code",
   "execution_count": 16,
   "metadata": {},
   "outputs": [],
   "source": [
    "# Below could be modified as you want\n",
    "\n",
    "initial_instance_count = 1\n",
    "instance_type = 'ml.m5.large'\n",
    "endpoint_name= 'ocr-endpoint'"
   ]
  },
  {
   "cell_type": "code",
   "execution_count": 17,
   "metadata": {},
   "outputs": [
    {
     "name": "stderr",
     "output_type": "stream",
     "text": [
      "Parameter image will be renamed to image_uri in SageMaker Python SDK v2.\n"
     ]
    }
   ],
   "source": [
    "# 创建 model\n",
    "\n",
    "from sagemaker.model import Model\n",
    "image = inference_repository_uri\n",
    "model = Model(\n",
    "            model_data=model_uri, \n",
    "            role=role,\n",
    "            image=image)"
   ]
  },
  {
   "cell_type": "code",
   "execution_count": 18,
   "metadata": {},
   "outputs": [
    {
     "name": "stdout",
     "output_type": "stream",
     "text": [
      "------------------!"
     ]
    }
   ],
   "source": [
    "# 创建 endpoint\n",
    "\n",
    "model.deploy(\n",
    "    initial_instance_count=initial_instance_count,\n",
    "    instance_type=instance_type,\n",
    "    endpoint_name=endpoint_name)"
   ]
  },
  {
   "cell_type": "code",
   "execution_count": 19,
   "metadata": {},
   "outputs": [],
   "source": [
    "# 创建推理用的 predictor\n",
    "\n",
    "new_predictor = sagemaker.predictor.RealTimePredictor(\n",
    "    endpoint=endpoint_name,\n",
    "    content_type='application/json')"
   ]
  },
  {
   "cell_type": "code",
   "execution_count": 20,
   "metadata": {},
   "outputs": [
    {
     "name": "stdout",
     "output_type": "stream",
     "text": [
      "{'name': 'hello'}\n"
     ]
    }
   ],
   "source": [
    "# 推理请求代码\n",
    "\n",
    "new_sm_response = new_predictor.predict(payload)\n",
    "\n",
    "print(json.loads(new_sm_response.decode()))"
   ]
  },
  {
   "cell_type": "markdown",
   "metadata": {},
   "source": [
    "### Method 2: Using boto3 SDK"
   ]
  },
  {
   "cell_type": "code",
   "execution_count": null,
   "metadata": {},
   "outputs": [],
   "source": [
    "# Below could be modified as you want\n",
    "\n",
    "model_name = 'ocr-demo'\n",
    "endpoint_config_name='ocr-endpoint'\n",
    "variant_name= 'ocr-endpoint'\n",
    "initial_instance_count = 1\n",
    "instance_type = 'ml.m5.large'\n",
    "endpoint_name= 'endpoint_config_name'"
   ]
  },
  {
   "cell_type": "code",
   "execution_count": null,
   "metadata": {},
   "outputs": [],
   "source": [
    "import boto3\n",
    "\n",
    "sm_client = boto3.client('sagemaker')\n",
    "\n",
    "# create model object\n",
    "\n",
    "spl_model_demo = sm_client.create_model(\n",
    "    ModelName=model_name,\n",
    "    PrimaryContainer={\n",
    "        'Image': image,\n",
    "        'Mode': 'SingleModel',\n",
    "        'ModelDataUrl': model_uri,\n",
    "    },\n",
    "    ExecutionRoleArn= role, \n",
    "    EnableNetworkIsolation=False\n",
    ")"
   ]
  },
  {
   "cell_type": "code",
   "execution_count": null,
   "metadata": {
    "scrolled": true
   },
   "outputs": [],
   "source": [
    "# create endpoint config\n",
    "\n",
    "spl_endpoint_config = sm_client.create_endpoint_config(\n",
    "    EndpointConfigName=endpoint_config_name,\n",
    "    ProductionVariants=[\n",
    "        {\n",
    "            'VariantName': variant_name,\n",
    "            'ModelName': model_name,\n",
    "            'InitialInstanceCount': initial_instance_count,\n",
    "            'InstanceType': instance_type\n",
    "        },\n",
    "    ]\n",
    ")"
   ]
  },
  {
   "cell_type": "code",
   "execution_count": null,
   "metadata": {},
   "outputs": [],
   "source": [
    "# create endpoint\n",
    "\n",
    "response = sm_client.create_endpoint(\n",
    "    EndpointName=endpoint_name,\n",
    "    EndpointConfigName=endpoint_config_name\n",
    ")"
   ]
  },
  {
   "cell_type": "markdown",
   "metadata": {},
   "source": [
    "待上一步创建完成后再进行下面的发送推理请求。上面创建endpoint的时间大概10分钟左右，可以在console查看状态，inservice即可使用了。\n",
    "\n",
    "推理代码："
   ]
  },
  {
   "cell_type": "code",
   "execution_count": 21,
   "metadata": {},
   "outputs": [
    {
     "name": "stdout",
     "output_type": "stream",
     "text": [
      "time cost 0.1443190574645996 s\n",
      "{'name': 'hello'}\n"
     ]
    }
   ],
   "source": [
    "import boto3\n",
    "import json\n",
    "import time\n",
    "\n",
    "region_name='cn-northwest-1'\n",
    "profile_name='default'\n",
    "\n",
    "session = boto3.session.Session(region_name=region_name, profile_name=profile_name)\n",
    "client = session.client('sagemaker-runtime')\n",
    "\n",
    "start_time = time.time()\n",
    "spl_response=client.invoke_endpoint(EndpointName=endpoint_name,\n",
    "        Body=payload,\n",
    "        ContentType='application/json')\n",
    "end_time = time.time()\n",
    "\n",
    "print('time cost %s s' %(end_time - start_time))\n",
    "print(json.loads(spl_response['Body'].read().decode()))"
   ]
  },
  {
   "cell_type": "code",
   "execution_count": null,
   "metadata": {},
   "outputs": [],
   "source": []
  }
 ],
 "metadata": {
  "instance_type": "ml.g4dn.xlarge",
  "kernelspec": {
   "display_name": "conda_pytorch_p36",
   "language": "python",
   "name": "conda_pytorch_p36"
  },
  "language_info": {
   "codemirror_mode": {
    "name": "ipython",
    "version": 3
   },
   "file_extension": ".py",
   "mimetype": "text/x-python",
   "name": "python",
   "nbconvert_exporter": "python",
   "pygments_lexer": "ipython3",
   "version": "3.6.10"
  }
 },
 "nbformat": 4,
 "nbformat_minor": 4
}
